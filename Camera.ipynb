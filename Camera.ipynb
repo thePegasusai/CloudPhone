{
  "nbformat": 4,
  "nbformat_minor": 0,
  "metadata": {
    "colab": {
      "provenance": [],
      "authorship_tag": "ABX9TyOQNaBVDCMXqMGYlmdilp9q",
      "include_colab_link": true
    },
    "kernelspec": {
      "name": "python3",
      "display_name": "Python 3"
    },
    "language_info": {
      "name": "python"
    }
  },
  "cells": [
    {
      "cell_type": "markdown",
      "metadata": {
        "id": "view-in-github",
        "colab_type": "text"
      },
      "source": [
        "<a href=\"https://colab.research.google.com/github/thePegasusai/CloudPhone/blob/main/Camera.ipynb\" target=\"_parent\"><img src=\"https://colab.research.google.com/assets/colab-badge.svg\" alt=\"Open In Colab\"/></a>"
      ]
    },
    {
      "cell_type": "code",
      "execution_count": null,
      "metadata": {
        "id": "IKveXb6VtGoG"
      },
      "outputs": [],
      "source": [
        "#. This will install ngrok and start it, then retrieve the public URL it generates and print it to the screen. You can then use this URL to access the webcam of your mobile device from the Google Colab notebook.\n",
        "\n",
        "# Install ngrok\n",
        "!wget https://bin.equinox.io/c/4VmDzA7iaHb/ngrok-stable-linux-amd64.zip\n",
        "!unzip ngrok-stable-linux-amd64.zip\n",
        "\n",
        "# Start ngrok\n",
        "get_ipython().system_raw('./ngrok http 6006 &')\n",
        "\n",
        "# Get the public URL\n",
        "!curl -s http://localhost:4040/api/tunnels | python3 -c \\\n",
        "    \"import sys, json; print(json.load(sys.stdin)['tunnels'][0]['public_url'])\"\n",
        "\n",
        "# Print the URL\n",
        "print(\"Point the camera of your mobile device to the URL below\")\n"
      ]
    },
    {
      "cell_type": "code",
      "source": [
        "import cv2\n",
        "\n",
        "# Load the video\n",
        "video = cv2.VideoCapture(video_file_path)\n",
        "\n",
        "# Process each frame of the video\n",
        "while video.isOpened():\n",
        "    # Read the frame\n",
        "    success, frame = video.read()\n",
        "    if not success:\n",
        "        break\n",
        "        \n",
        "    # Detect the goal\n",
        "    goal = detect_goal(frame)\n",
        "    if goal:\n",
        "        # Classify the goal\n",
        "        goal_class = classify_goal(goal)\n",
        "        # Process the result\n",
        "        process_result(goal_class)\n",
        "\n",
        "# Release the video\n",
        "video.release()\n"
      ],
      "metadata": {
        "id": "-y67F5SduWFH"
      },
      "execution_count": null,
      "outputs": []
    }
  ]
}