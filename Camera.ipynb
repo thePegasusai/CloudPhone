{
  "nbformat": 4,
  "nbformat_minor": 0,
  "metadata": {
    "colab": {
      "provenance": [],
      "authorship_tag": "ABX9TyOhgAgmeVCKgY7o22Qr3DI+",
      "include_colab_link": true
    },
    "kernelspec": {
      "name": "python3",
      "display_name": "Python 3"
    },
    "language_info": {
      "name": "python"
    }
  },
  "cells": [
    {
      "cell_type": "markdown",
      "metadata": {
        "id": "view-in-github",
        "colab_type": "text"
      },
      "source": [
        "<a href=\"https://colab.research.google.com/github/thePegasusai/CloudPhone/blob/main/Camera.ipynb\" target=\"_parent\"><img src=\"https://colab.research.google.com/assets/colab-badge.svg\" alt=\"Open In Colab\"/></a>"
      ]
    },
    {
      "cell_type": "code",
      "execution_count": null,
      "metadata": {
        "id": "IKveXb6VtGoG"
      },
      "outputs": [],
      "source": [
        "#. This will install ngrok and start it, then retrieve the public URL it generates and print it to the screen. You can then use this URL to access the webcam of your mobile device from the Google Colab notebook.\n",
        "\n",
        "# Install ngrok\n",
        "!wget https://bin.equinox.io/c/4VmDzA7iaHb/ngrok-stable-linux-amd64.zip\n",
        "!unzip ngrok-stable-linux-amd64.zip\n",
        "\n",
        "# Start ngrok\n",
        "get_ipython().system_raw('./ngrok http 6006 &')\n",
        "\n",
        "# Get the public URL\n",
        "!curl -s http://localhost:4040/api/tunnels | python3 -c \\\n",
        "    \"import sys, json; print(json.load(sys.stdin)['tunnels'][0]['public_url'])\"\n",
        "\n",
        "# Print the URL\n",
        "print(\"Point the camera of your mobile device to the URL below\")\n"
      ]
    },
    {
      "cell_type": "code",
      "source": [
        "import cv2\n",
        "\n",
        "# Load the video\n",
        "video = cv2.VideoCapture(video_file_path)\n",
        "\n",
        "# Process each frame of the video\n",
        "while video.isOpened():\n",
        "    # Read the frame\n",
        "    success, frame = video.read()\n",
        "    if not success:\n",
        "        break\n",
        "        \n",
        "    # Detect the goal\n",
        "    goal = detect_goal(frame)\n",
        "    if goal:\n",
        "        # Classify the goal\n",
        "        goal_class = classify_goal(goal)\n",
        "        # Process the result\n",
        "        process_result(goal_class)\n",
        "\n",
        "# Release the video\n",
        "video.release()\n"
      ],
      "metadata": {
        "id": "-y67F5SduWFH"
      },
      "execution_count": null,
      "outputs": []
    },
    {
      "cell_type": "code",
      "source": [
        "!pip install tesseract-ocr\n",
        "\n",
        "# Capture an image from the device's camera\n",
        "let image = captureImage();\n",
        "\n",
        "# Pass the image to Tesseract.js\n",
        "Tesseract.recognize(image)\n",
        "    .then(function(result) {\n",
        "        // Get the recognized text\n",
        "        let text = result.text;\n",
        "\n",
        "        // Pass the text to a text-to-speech library\n",
        "        let speech = generateSpeech(text);\n",
        "    });"
      ],
      "metadata": {
        "id": "wDH01ocs1Ise",
        "colab": {
          "base_uri": "https://localhost:8080/",
          "height": 179
        },
        "outputId": "8b04e80f-bb3f-4b9d-da69-3b1859aa6c87"
      },
      "execution_count": 4,
      "outputs": [
        {
          "output_type": "error",
          "ename": "SyntaxError",
          "evalue": "ignored",
          "traceback": [
            "\u001b[0;36m  File \u001b[0;32m\"<ipython-input-4-436789dc90cb>\"\u001b[0;36m, line \u001b[0;32m4\u001b[0m\n\u001b[0;31m    let image = captureImage();\u001b[0m\n\u001b[0m        ^\u001b[0m\n\u001b[0;31mSyntaxError\u001b[0m\u001b[0;31m:\u001b[0m invalid syntax\n"
          ]
        }
      ]
    },
    {
      "cell_type": "code",
      "source": [
        "!pip install pytesseract\n"
      ],
      "metadata": {
        "colab": {
          "base_uri": "https://localhost:8080/",
          "height": 179
        },
        "id": "P3118_dB3peJ",
        "outputId": "86b5f81b-1eaa-4bc6-8c84-479294ccbf57"
      },
      "execution_count": 9,
      "outputs": [
        {
          "output_type": "error",
          "ename": "SyntaxError",
          "evalue": "ignored",
          "traceback": [
            "\u001b[0;36m  File \u001b[0;32m\"<ipython-input-9-6be419dc7e80>\"\u001b[0;36m, line \u001b[0;32m3\u001b[0m\n\u001b[0;31m    .then(function(result)) {\u001b[0m\n\u001b[0m    ^\u001b[0m\n\u001b[0;31mSyntaxError\u001b[0m\u001b[0;31m:\u001b[0m invalid syntax\n"
          ]
        }
      ]
    },
    {
      "cell_type": "code",
      "source": [
        "# install tesseract.js\n",
        "!npm install -g tesseract.js\n",
        "# link it to the colab environment\n",
        "!ln -s /usr/local/bin/tesseract.js /usr/local/lib/node_modules/tesseract.js\n",
        "# install the language files you need\n",
        "!tesseract.js_download -l eng\n",
        "\n",
        "# set up the webcam\n",
        "navigator.mediaDevices.getUserMedia({ video: true, audio: false })\n",
        " .then(stream => {\n",
        "    video.srcObject = stream;\n",
        "    video.play();\n",
        "  })\n",
        "  .catch(console.error);\n",
        "\n",
        "# get the image from the webcam\n",
        "const imageCapture = new ImageCapture(stream.getVideoTracks()[0]);\n",
        "imageCapture.takePhoto()\n",
        "  .then(blob => {\n",
        "    const img = document.querySelector('img');\n",
        "    img.src = URL.createObjectURL(blob"
      ],
      "metadata": {
        "colab": {
          "base_uri": "https://localhost:8080/",
          "height": 179
        },
        "id": "RKJTMRMW5La5",
        "outputId": "a5948004-078d-4cab-f804-446d1744e27e"
      },
      "execution_count": 11,
      "outputs": [
        {
          "output_type": "error",
          "ename": "SyntaxError",
          "evalue": "ignored",
          "traceback": [
            "\u001b[0;36m  File \u001b[0;32m\"<ipython-input-11-ee8b45e0e7d2>\"\u001b[0;36m, line \u001b[0;32m10\u001b[0m\n\u001b[0;31m    .then(stream => {\u001b[0m\n\u001b[0m    ^\u001b[0m\n\u001b[0;31mSyntaxError\u001b[0m\u001b[0;31m:\u001b[0m invalid syntax\n"
          ]
        }
      ]
    }
  ]
}