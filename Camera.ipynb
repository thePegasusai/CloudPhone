{
  "nbformat": 4,
  "nbformat_minor": 0,
  "metadata": {
    "colab": {
      "provenance": [],
      "authorship_tag": "ABX9TyOshazX8tTsL/78NC0+PKq5",
      "include_colab_link": true
    },
    "kernelspec": {
      "name": "python3",
      "display_name": "Python 3"
    },
    "language_info": {
      "name": "python"
    }
  },
  "cells": [
    {
      "cell_type": "markdown",
      "metadata": {
        "id": "view-in-github",
        "colab_type": "text"
      },
      "source": [
        "<a href=\"https://colab.research.google.com/github/thePegasusai/CloudPhone/blob/main/Camera.ipynb\" target=\"_parent\"><img src=\"https://colab.research.google.com/assets/colab-badge.svg\" alt=\"Open In Colab\"/></a>"
      ]
    },
    {
      "cell_type": "code",
      "execution_count": null,
      "metadata": {
        "id": "IKveXb6VtGoG"
      },
      "outputs": [],
      "source": [
        "#. This will install ngrok and start it, then retrieve the public URL it generates and print it to the screen. You can then use this URL to access the webcam of your mobile device from the Google Colab notebook.\n",
        "\n",
        "# Install ngrok\n",
        "!wget https://bin.equinox.io/c/4VmDzA7iaHb/ngrok-stable-linux-amd64.zip\n",
        "!unzip ngrok-stable-linux-amd64.zip\n",
        "\n",
        "# Start ngrok\n",
        "get_ipython().system_raw('./ngrok http 6006 &')\n",
        "\n",
        "# Get the public URL\n",
        "!curl -s http://localhost:4040/api/tunnels | python3 -c \\\n",
        "    \"import sys, json; print(json.load(sys.stdin)['tunnels'][0]['public_url'])\"\n",
        "\n",
        "# Print the URL\n",
        "print(\"Point the camera of your mobile device to the URL below\")\n"
      ]
    },
    {
      "cell_type": "code",
      "source": [
        "import cv2\n",
        "\n",
        "# Load the video\n",
        "video = cv2.VideoCapture(video_file_path)\n",
        "\n",
        "# Process each frame of the video\n",
        "while video.isOpened():\n",
        "    # Read the frame\n",
        "    success, frame = video.read()\n",
        "    if not success:\n",
        "        break\n",
        "        \n",
        "    # Detect the goal\n",
        "    goal = detect_goal(frame)\n",
        "    if goal:\n",
        "        # Classify the goal\n",
        "        goal_class = classify_goal(goal)\n",
        "        # Process the result\n",
        "        process_result(goal_class)\n",
        "\n",
        "# Release the video\n",
        "video.release()\n"
      ],
      "metadata": {
        "id": "-y67F5SduWFH"
      },
      "execution_count": null,
      "outputs": []
    },
    {
      "cell_type": "code",
      "source": [
        "!pip install tesseract-ocr\n",
        "\n",
        "# Capture an image from the device's camera\n",
        "let image = captureImage();\n",
        "\n",
        "# Pass the image to Tesseract.js\n",
        "Tesseract.recognize(image)\n",
        "    .then(function(result) {\n",
        "        // Get the recognized text\n",
        "        let text = result.text;\n",
        "\n",
        "        // Pass the text to a text-to-speech library\n",
        "        let speech = generateSpeech(text);\n",
        "    });"
      ],
      "metadata": {
        "id": "wDH01ocs1Ise",
        "colab": {
          "base_uri": "https://localhost:8080/",
          "height": 153
        },
        "outputId": "8b04e80f-bb3f-4b9d-da69-3b1859aa6c87"
      },
      "execution_count": null,
      "outputs": [
        {
          "output_type": "error",
          "ename": "SyntaxError",
          "evalue": "ignored",
          "traceback": [
            "\u001b[0;36m  File \u001b[0;32m\"<ipython-input-4-436789dc90cb>\"\u001b[0;36m, line \u001b[0;32m4\u001b[0m\n\u001b[0;31m    let image = captureImage();\u001b[0m\n\u001b[0m        ^\u001b[0m\n\u001b[0;31mSyntaxError\u001b[0m\u001b[0;31m:\u001b[0m invalid syntax\n"
          ]
        }
      ]
    },
    {
      "cell_type": "code",
      "source": [
        "!pip install pytesseract\n"
      ],
      "metadata": {
        "colab": {
          "base_uri": "https://localhost:8080/"
        },
        "id": "P3118_dB3peJ",
        "outputId": "3acf6dcc-7f9e-4113-be40-e5bb64ee0c6f"
      },
      "execution_count": null,
      "outputs": [
        {
          "output_type": "stream",
          "name": "stdout",
          "text": [
            "Looking in indexes: https://pypi.org/simple, https://us-python.pkg.dev/colab-wheels/public/simple/\n",
            "Requirement already satisfied: pytesseract in /usr/local/lib/python3.8/dist-packages (0.3.10)\n",
            "Requirement already satisfied: packaging>=21.3 in /usr/local/lib/python3.8/dist-packages (from pytesseract) (21.3)\n",
            "Requirement already satisfied: Pillow>=8.0.0 in /usr/local/lib/python3.8/dist-packages (from pytesseract) (9.3.0)\n",
            "Requirement already satisfied: pyparsing!=3.0.5,>=2.0.2 in /usr/local/lib/python3.8/dist-packages (from packaging>=21.3->pytesseract) (3.0.9)\n",
            "Traceback (most recent call last):\n",
            "  File \"/usr/local/lib/python3.8/dist-packages/pip/_vendor/pkg_resources/__init__.py\", line 3021, in _dep_map\n",
            "    return self.__dep_map\n",
            "  File \"/usr/local/lib/python3.8/dist-packages/pip/_vendor/pkg_resources/__init__.py\", line 2815, in __getattr__\n",
            "    raise AttributeError(attr)\n",
            "AttributeError: _DistInfoDistribution__dep_map\n",
            "\n",
            "During handling of the above exception, another exception occurred:\n",
            "\n",
            "Traceback (most recent call last):\n",
            "  File \"/usr/local/lib/python3.8/dist-packages/pip/_internal/cli/base_command.py\", line 180, in _main\n",
            "    status = self.run(options, args)\n",
            "  File \"/usr/local/lib/python3.8/dist-packages/pip/_internal/cli/req_command.py\", line 199, in wrapper\n",
            "    return func(self, options, args)\n",
            "  File \"/usr/local/lib/python3.8/dist-packages/pip/_internal/commands/install.py\", line 385, in run\n",
            "    conflicts = self._determine_conflicts(to_install)\n",
            "  File \"/usr/local/lib/python3.8/dist-packages/pip/_internal/commands/install.py\", line 515, in _determine_conflicts\n",
            "    return check_install_conflicts(to_install)\n",
            "  File \"/usr/local/lib/python3.8/dist-packages/pip/_internal/operations/check.py\", line 103, in check_install_conflicts\n",
            "    package_set, _ = create_package_set_from_installed()\n",
            "  File \"/usr/local/lib/python3.8/dist-packages/pip/_internal/operations/check.py\", line 45, in create_package_set_from_installed\n",
            "    package_set[name] = PackageDetails(dist.version, dist.requires())\n",
            "  File \"/usr/local/lib/python3.8/dist-packages/pip/_vendor/pkg_resources/__init__.py\", line 2736, in requires\n",
            "    dm = self._dep_map\n",
            "  File \"/usr/local/lib/python3.8/dist-packages/pip/_vendor/pkg_resources/__init__.py\", line 3023, in _dep_map\n",
            "    self.__dep_map = self._compute_dependencies()\n",
            "  File \"/usr/local/lib/python3.8/dist-packages/pip/_vendor/pkg_resources/__init__.py\", line 3043, in _compute_dependencies\n",
            "    for extra in self._parsed_pkg_info.get_all('Provides-Extra') or []:\n",
            "  File \"/usr/lib/python3.8/email/message.py\", line 508, in get_all\n",
            "    for k, v in self._headers:\n",
            "KeyboardInterrupt\n",
            "\n",
            "During handling of the above exception, another exception occurred:\n",
            "\n",
            "Traceback (most recent call last):\n",
            "  File \"/usr/local/bin/pip3\", line 8, in <module>\n",
            "    sys.exit(main())\n",
            "  File \"/usr/local/lib/python3.8/dist-packages/pip/_internal/cli/main.py\", line 71, in main\n",
            "    return command.main(cmd_args)\n",
            "  File \"/usr/local/lib/python3.8/dist-packages/pip/_internal/cli/base_command.py\", line 104, in main\n",
            "    return self._main(args)\n",
            "  File \"/usr/local/lib/python3.8/dist-packages/pip/_internal/cli/base_command.py\", line 212, in _main\n",
            "    logger.critical(\"Operation cancelled by user\")\n",
            "  File \"/usr/lib/python3.8/logging/__init__.py\", line 1493, in critical\n",
            "    self._log(CRITICAL, msg, args, **kwargs)\n",
            "  File \"/usr/lib/python3.8/logging/__init__.py\", line 1577, in _log\n",
            "    fn, lno, func, sinfo = self.findCaller(stack_info, stacklevel)\n",
            "  File \"/usr/lib/python3.8/logging/__init__.py\", line 1519, in findCaller\n",
            "    f = currentframe()\n",
            "  File \"/usr/lib/python3.8/logging/__init__.py\", line 160, in <lambda>\n",
            "    currentframe = lambda: sys._getframe(3)\n",
            "KeyboardInterrupt\n",
            "^C\n"
          ]
        }
      ]
    },
    {
      "cell_type": "code",
      "source": [
        "import cv2\n",
        "\n",
        "# Access the camera\n",
        "cam = cv2.VideoCapture(0)\n",
        "\n",
        "# Check if the camera is working\n",
        "if cam.isOpened():\n",
        "    # Capture an image\n",
        "    ret, img = cam.read()\n",
        "    # Show the image\n",
        "    cv2.imshow('Image', img)\n",
        "    # Release the camera\n",
        "    cam.release()\n"
      ],
      "metadata": {
        "id": "8NzfW3XO70hM"
      },
      "execution_count": 1,
      "outputs": []
    },
    {
      "cell_type": "code",
      "source": [],
      "metadata": {
        "id": "Cvxvtls770t5"
      },
      "execution_count": null,
      "outputs": []
    },
    {
      "cell_type": "code",
      "source": [
        "# install tesseract.js\n",
        "!npm install -g tesseract.js\n",
        "# link it to the colab environment\n",
        "!ln -s /usr/local/bin/tesseract.js /usr/local/lib/node_modules/tesseract.js\n",
        "# install the language files you need\n",
        "!tesseract.js_download -l eng\n",
        "\n",
        "# set up the webcam\n",
        "navigator.mediaDevices.getUserMedia({ video: true, audio: false })\n",
        " .then(stream => {\n",
        "    video.srcObject = stream;\n",
        "    video.play();\n",
        "  })\n",
        "  .catch(console.error);\n",
        "\n",
        "# get the image from the webcam\n",
        "const imageCapture = new ImageCapture(stream.getVideoTracks()[0]);\n",
        "imageCapture.takePhoto()\n",
        "  .then(blob => {\n",
        "    const img = document.querySelector('img');\n",
        "    img.src = URL.createObjectURL(blob"
      ],
      "metadata": {
        "colab": {
          "base_uri": "https://localhost:8080/",
          "height": 153
        },
        "id": "RKJTMRMW5La5",
        "outputId": "fa298adb-9213-44b6-c959-d13cd0e74c30"
      },
      "execution_count": null,
      "outputs": [
        {
          "output_type": "error",
          "ename": "IndentationError",
          "evalue": "ignored",
          "traceback": [
            "\u001b[0;36m  File \u001b[0;32m\"<ipython-input-13-3fe9001b0915>\"\u001b[0;36m, line \u001b[0;32m10\u001b[0m\n\u001b[0;31m    .then(stream => {\u001b[0m\n\u001b[0m    ^\u001b[0m\n\u001b[0;31mIndentationError\u001b[0m\u001b[0;31m:\u001b[0m unexpected indent\n"
          ]
        }
      ]
    },
    {
      "cell_type": "code",
      "source": [
        "# set up the webcam\n",
        "navigator.mediaDevices.getUserMedia({ video: true, audio: false })\n",
        "  .then(stream => {\n",
        "    video.srcObject = stream;\n",
        "    video.play();\n",
        "  })\n",
        "  .catch(console.error);\n",
        "\n",
        "# get the image from the webcam\n",
        "const imageCapture = new ImageCapture(stream.getVideoTracks()[0]);\n",
        "imageCapture.takePhoto()\n",
        "  .then(blob => {\n",
        "    const img = document.querySelector('img');\n",
        "    img.src = URL.createObjectURL(blob);\n",
        "  });\n"
      ],
      "metadata": {
        "colab": {
          "base_uri": "https://localhost:8080/",
          "height": 153
        },
        "id": "wu-ieu_a6mPR",
        "outputId": "dc59d2cb-d5fb-4fc5-e9fb-7310a691397e"
      },
      "execution_count": null,
      "outputs": [
        {
          "output_type": "error",
          "ename": "IndentationError",
          "evalue": "ignored",
          "traceback": [
            "\u001b[0;36m  File \u001b[0;32m\"<ipython-input-12-bd2a23c936e2>\"\u001b[0;36m, line \u001b[0;32m3\u001b[0m\n\u001b[0;31m    .then(stream => {\u001b[0m\n\u001b[0m    ^\u001b[0m\n\u001b[0;31mIndentationError\u001b[0m\u001b[0;31m:\u001b[0m unexpected indent\n"
          ]
        }
      ]
    }
  ]
}