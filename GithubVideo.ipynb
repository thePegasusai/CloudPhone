{
  "nbformat": 4,
  "nbformat_minor": 0,
  "metadata": {
    "colab": {
      "provenance": [],
      "authorship_tag": "ABX9TyNpm3Ec/xvhcfv8llvnpD7e",
      "include_colab_link": true
    },
    "kernelspec": {
      "name": "python3",
      "display_name": "Python 3"
    },
    "language_info": {
      "name": "python"
    }
  },
  "cells": [
    {
      "cell_type": "markdown",
      "metadata": {
        "id": "view-in-github",
        "colab_type": "text"
      },
      "source": [
        "<a href=\"https://colab.research.google.com/github/thePegasusai/CloudPhone/blob/main/GithubVideo.ipynb\" target=\"_parent\"><img src=\"https://colab.research.google.com/assets/colab-badge.svg\" alt=\"Open In Colab\"/></a>"
      ]
    },
    {
      "cell_type": "markdown",
      "source": [
        "Github only accepts file uploads that are 25mb and lower; so we use this code to compress a video file and add it to a repo... We compress it to 20 mb since depending on the file it may be slightly larger than targeted outpout."
      ],
      "metadata": {
        "id": "KsvCkDcG5XSd"
      }
    },
    {
      "cell_type": "code",
      "execution_count": null,
      "metadata": {
        "id": "F6b7w4UG4Ou_"
      },
      "outputs": [],
      "source": [
        "!apt-get install ffmpeg\n"
      ]
    },
    {
      "cell_type": "code",
      "source": [
        "import subprocess\n",
        "\n",
        "def compress_video(input_file, output_file, target_size_mb=20):\n",
        "    target_size_bytes = target_size_mb * 1024 * 1024\n",
        "    \n",
        "    # Use FFmpeg to compress the video file\n",
        "    cmd = [\n",
        "        'ffmpeg',\n",
        "        '-i', input_file,\n",
        "        '-c:v', 'libx264',\n",
        "        '-b:v', str(target_size_bytes),\n",
        "        '-y',\n",
        "        output_file\n",
        "    ]\n",
        "    subprocess.run(cmd, check=True)\n",
        "    \n",
        "input_file = 'input.mp4'\n",
        "output_file = 'output.mp4'\n",
        "compress_video(input_file, output_file)\n"
      ],
      "metadata": {
        "id": "GMVIye2h4Yov"
      },
      "execution_count": null,
      "outputs": []
    }
  ]
}