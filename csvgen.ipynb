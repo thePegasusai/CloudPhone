{
  "nbformat": 4,
  "nbformat_minor": 0,
  "metadata": {
    "colab": {
      "provenance": [],
      "authorship_tag": "ABX9TyPQ8C9PAWq6fdBo35z7gD29",
      "include_colab_link": true
    },
    "kernelspec": {
      "name": "python3",
      "display_name": "Python 3"
    },
    "language_info": {
      "name": "python"
    }
  },
  "cells": [
    {
      "cell_type": "markdown",
      "metadata": {
        "id": "view-in-github",
        "colab_type": "text"
      },
      "source": [
        "<a href=\"https://colab.research.google.com/github/thePegasusai/CloudPhone/blob/main/csvgen.ipynb\" target=\"_parent\"><img src=\"https://colab.research.google.com/assets/colab-badge.svg\" alt=\"Open In Colab\"/></a>"
      ]
    },
    {
      "cell_type": "markdown",
      "source": [
        "simply replace the list & voila === Csv\n",
        "\n",
        "> Indented block\n",
        "\n"
      ],
      "metadata": {
        "id": "M__qzQxPs1qv"
      }
    },
    {
      "cell_type": "code",
      "execution_count": null,
      "metadata": {
        "id": "o98YN-Fkqq23"
      },
      "outputs": [],
      "source": [
        "import pandas as pd\n",
        "\n",
        "mylist = [\"“Alibaba Group (China: 2014)”, “Pinduoduo (China: 2018)”, “BioNTech SE (Germany: 2020)”, “Zoom Video Communications (US: 2019)”, “CrowdStrike (US: 2019), Nio (China: 2018)”, “JED Oil (US: 2004)”, “AIA Group (Hong Kong: 2010)”, “Takeda Pharmaceutical (Japan: 2005)”, “Tencent Holdings (China: 2004)”, “Baidu (China: 2005)”, “Yandex (Russia: 2011)”, “SoftBank Group (Japan: 2004)”, “JD.com (China: 2014)”, “Meituan-Dianping (China: 2018)”,  “Xiaomi (China: 2018)“\"]\n",
        "\n",
        "df = pd.DataFrame(mylist)\n",
        "df.to_csv('mylist.csv', index=False, header=False)\n"
      ]
    },
    {
      "cell_type": "markdown",
      "source": [],
      "metadata": {
        "id": "s6Om7utoq2MG"
      }
    }
  ]
}