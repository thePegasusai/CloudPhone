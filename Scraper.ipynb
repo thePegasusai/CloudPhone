{
  "nbformat": 4,
  "nbformat_minor": 0,
  "metadata": {
    "colab": {
      "provenance": [],
      "authorship_tag": "ABX9TyOpOnX1I9T9viZJBxrL9mBH",
      "include_colab_link": true
    },
    "kernelspec": {
      "name": "python3",
      "display_name": "Python 3"
    },
    "language_info": {
      "name": "python"
    }
  },
  "cells": [
    {
      "cell_type": "markdown",
      "metadata": {
        "id": "view-in-github",
        "colab_type": "text"
      },
      "source": [
        "<a href=\"https://colab.research.google.com/github/thePegasusai/CloudPhone/blob/main/Scraper.ipynb\" target=\"_parent\"><img src=\"https://colab.research.google.com/assets/colab-badge.svg\" alt=\"Open In Colab\"/></a>"
      ]
    },
    {
      "cell_type": "code",
      "execution_count": 1,
      "metadata": {
        "colab": {
          "base_uri": "https://localhost:8080/"
        },
        "id": "0aWpmJT0IDsy",
        "outputId": "ed2981da-fdaa-46c0-fd84-291800fb259a"
      },
      "outputs": [
        {
          "output_type": "stream",
          "name": "stdout",
          "text": [
            "#main-content\n",
            "/\n",
            "https://twitter.com/USTradeRep\n",
            "https://www.facebook.com/pages/Office-of-the-United-States-Trade-Representative/107836672572718\n",
            "https://www.instagram.com/ustraderep/?hl=en\n",
            "mailto:media@ustr.eop.gov\n",
            "/\n",
            "#\n",
            "/trade-agreements\n",
            "/trade-agreements/free-trade-agreements\n",
            "/trade-agreements/trade-investment-framework-agreements\n",
            "/trade-agreements/bilateral-investment-treaties\n",
            "/trade-agreements/other-initiatives\n",
            "/countries-regions\n",
            "/countries-regions/africa\n",
            "/countries-regions/americas\n",
            "/countries-regions/southeast-asia-pacific\n",
            "/countries-regions/europe-middle-east\n",
            "/countries-regions/south-central-asia\n",
            "/countries-regions/china-mongolia-taiwan\n",
            "/countries-regions/japan-korea-apec\n",
            "/countries-regions/united-states\n",
            "/issue-areas\n",
            "/issue-areas/agriculture\n",
            "/issue-areas/economy-trade\n",
            "/issue-areas/enforcement\n",
            "/issue-areas/environment\n",
            "/equity\n",
            "/issue-areas/government-procurement\n",
            "/issue-areas/industry-manufacturing\n",
            "/issue-areas/intellectual-property\n",
            "/issue-areas/labor\n",
            "/issue-areas/preference-programs\n",
            "/issue-areas/services-investment\n",
            "/issue-areas/small-business\n",
            "/issue-areas/textiles-apparel\n",
            "/issue-areas/trade-development\n",
            "/issue-areas/trade-organizations\n",
            "/about-us\n",
            "/about-us/about-ustr\n",
            "/about-us/biographies-key-officials/katherine-tai-ambassador\n",
            "/about-us/biographies-key-officials\n",
            "/about-us/organization\n",
            "/about-us/policy-offices\n",
            "/about-us/advisory-committees\n",
            "/about-us/policy-offices/press-office\n",
            "/about-us/policy-offices/press-office/news\n",
            "/about-us/policy-offices/press-office/press-releases\n",
            "/about-us/policy-offices/press-office/speeches-and-remarks\n",
            "/about-us/policy-offices/press-office/fact-sheets\n",
            "/about-us/policy-offices/press-office/blogs-and-op-eds\n",
            "/about-us/policy-offices/press-office/contact-us\n",
            "#\n",
            "https://vaccines.gov\n",
            "https://vacunas.gov\n",
            "/countries-regions/china-mongolia-taiwan/peoples-republic-china\n",
            "/countries-regions/china-mongolia-taiwan/peoples-republic-china/phase-one-trade-agreement\n",
            "/countries-regions/china-mongolia-taiwan/peoples-republic-china/report-chinas-wto-compliance\n",
            "/countries-regions/china-mongolia-taiwan/hong-kong\n",
            "/countries-regions/china-mongolia-taiwan/macau\n",
            "/countries-regions/china-mongolia-taiwan/mongolia\n",
            "/countries-regions/china/taiwan\n",
            "/countries-regions\n",
            "/countries-regions/china-mongolia-taiwan\n",
            "https://ustr.gov/\n",
            "https://twitter.com/USTradeRep\n",
            "https://www.facebook.com/pages/Office-of-the-United-States-Trade-Representative/107836672572718\n",
            "https://www.instagram.com/ustraderep/?hl=en\"\n",
            "mailto:media@ustr.eop.gov\n",
            "/about-us/policy-offices/press-office/press-releases/news\n",
            "/about-us/policy-offices/press-office/press-releases\n",
            "/about-us/policy-offices/press-office/reports-and-publications\n",
            "/about-us/policy-offices/press-office/fact-sheets\n",
            "/about-us/policy-offices/press-office/speeches\n",
            "/about-us/policy-offices/press-office/blogs-and-op-eds\n",
            "https://ustr.gov/\n",
            "https://www.whitehouse.gov/priorities/covid-19/\n",
            "/usmca\n",
            "/issue-areas/trade-organizations/world-trade-organization-wto\n",
            "/trade-agreements/free-trade-agreements\n",
            "/about-us\n",
            "/about-us/organization\n",
            "/about-us/biographies-key-officials\n",
            "/about-us/policy-offices\n",
            "/about-us/advisory-committees\n",
            "/about-us/policy-offices/press-office/-ustr-archives\n",
            "/about-us/ohcs/careers\n",
            "/about-us/office-human-capital-and-services/careers/student-internship-program\n",
            "https://ustr.gov/\n",
            "https://www.whitehouse.gov/open/around/eop/ustr\n",
            "/privacy-legal\n",
            "/notices\n",
            "/about-us/reading-room/foia\n",
            "https://ustr.theresumator.com/apply\n"
          ]
        }
      ],
      "source": [
        "import requests\n",
        "from bs4 import BeautifulSoup\n",
        "\n",
        "url = 'https://ustr.gov/countries-regions/china-mongolia-taiwan/peoples-republic-china'\n",
        "response = requests.get(url)\n",
        "soup = BeautifulSoup(response.text, 'html.parser')\n",
        "\n",
        "# Get all the links in the page\n",
        "links = soup.find_all('a')\n",
        "\n",
        "# Loop through the links and print out the href attribute\n",
        "for link in links:\n",
        "    print(link.get('href'))"
      ]
    },
    {
      "cell_type": "code",
      "source": [
        "import requests\n",
        "from bs4 import BeautifulSoup\n",
        "import csv\n",
        "\n",
        "url = 'https://www.usa.gov'\n",
        "response = requests.get(url)\n",
        "soup = BeautifulSoup(response.text, 'html.parser')\n",
        "\n",
        "# Extract the information you want to scrape\n",
        "info = soup.find_all('a')\n",
        "\n",
        "# Write the information to a CSV file\n",
        "with open('info.csv', 'w', newline='') as csvfile:\n",
        "    writer = csv.writer(csvfile)\n",
        "    writer.writerow(['Link'])\n",
        "    for i in info:\n",
        "        writer.writerow([i.get('href')])\n",
        "\n"
      ],
      "metadata": {
        "id": "VOlH0m-rIxl3"
      },
      "execution_count": 2,
      "outputs": []
    },
    {
      "cell_type": "code",
      "source": [
        "# You can also use Pandas library for more flexibility and readability for the csv file.\n",
        "\n",
        "import pandas as pd\n",
        "\n",
        "df = pd.DataFrame(columns=['Link'])\n",
        "for i in info:\n",
        "    df = df.append({'Link': i.get('href')}, ignore_index=True)\n",
        "\n",
        "df.to_csv('info.csv', index=False)\n"
      ],
      "metadata": {
        "id": "qisAxTxCJA6a"
      },
      "execution_count": 3,
      "outputs": []
    }
  ]
}