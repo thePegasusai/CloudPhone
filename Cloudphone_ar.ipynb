{
  "nbformat": 4,
  "nbformat_minor": 0,
  "metadata": {
    "colab": {
      "provenance": [],
      "mount_file_id": "1YghDRHmmymVr5CCt8jvdszu6UuSy5gRh",
      "authorship_tag": "ABX9TyNg3N3UziJKF+4CMCI6Oc5q",
      "include_colab_link": true
    },
    "kernelspec": {
      "name": "python3",
      "display_name": "Python 3"
    },
    "language_info": {
      "name": "python"
    }
  },
  "cells": [
    {
      "cell_type": "markdown",
      "metadata": {
        "id": "view-in-github",
        "colab_type": "text"
      },
      "source": [
        "<a href=\"https://colab.research.google.com/github/thePegasusai/CloudPhone/blob/main/Cloudphone_ar.ipynb\" target=\"_parent\"><img src=\"https://colab.research.google.com/assets/colab-badge.svg\" alt=\"Open In Colab\"/></a>"
      ]
    },
    {
      "cell_type": "code",
      "execution_count": null,
      "metadata": {
        "id": "lbHNZ53Sqbdo"
      },
      "outputs": [],
      "source": [
        "#  mobility phone from the cloud to accomplish milestones"
      ]
    },
    {
      "cell_type": "markdown",
      "source": [
        "**bold text**"
      ],
      "metadata": {
        "id": "TMc_SWjjq-cJ"
      }
    },
    {
      "cell_type": "code",
      "source": [
        "#site assets (gif)\n",
        "=\"200\" width=\"200\">\n",
        "  <img src=\"assets/DeepFakes/0 (2).gif\" height=\"200\" width=\"200\">\n",
        "  <img src=\"assets/DeepFakes/0 (1).gif\" height=\"200\" width=\"200\">\n",
        "  <img src=\"assets/DeepFakes/0 (4).gif\" height=\"200\" width=\"200\">\n",
        "  <img src=\"assets/DeepFakes/0 (5).gif\" height=\"200\" width=\"200\">\n",
        "  <img src=\"assets/DeepFakes/0.gif\" height=\"200\" width=\"200\">\n",
        "  <img src=\"assets/DeepFakes/1 (1).gif\" height=\"200\" width=\"200\"> \n",
        "  <img src=\"assets/DeepFakes/1.gif\" height=\"200\" width=\"200\">\n",
        "  <img src=\"assets/DeepFakes/2 (1).gif\" height=\"200\" width=\"200\">\n",
        "  <img src=\"assets/DeepFakes/2 (2).gif\" height=\"200\" width=\"200\">\n",
        "  <img src=\"assets/DeepFakes/2 (3).gif\" height=\"200\" width=\"200\">\n",
        "  <img src=\"assets/DeepFakes/2.gif\" height=\"200\" width=\"200\">\n",
        "    "
      ],
      "metadata": {
        "id": "a2lguQYKcPUw"
      },
      "execution_count": null,
      "outputs": []
    },
    {
      "cell_type": "code",
      "source": [
        "from google.colab import drive\n",
        "drive.mount('/content/drive')"
      ],
      "metadata": {
        "id": "t4PpeRm0citc",
        "outputId": "ca6dd788-6b0a-4cce-cba6-ce223dae22ca",
        "colab": {
          "base_uri": "https://localhost:8080/"
        }
      },
      "execution_count": null,
      "outputs": [
        {
          "output_type": "stream",
          "name": "stdout",
          "text": [
            "Drive already mounted at /content/drive; to attempt to forcibly remount, call drive.mount(\"/content/drive\", force_remount=True).\n"
          ]
        }
      ]
    },
    {
      "cell_type": "code",
      "source": [
        "#gumroad api \n",
        "pip install pygumroad"
      ],
      "metadata": {
        "id": "N2oTWAn_ccmx",
        "colab": {
          "base_uri": "https://localhost:8080/"
        },
        "outputId": "e676389d-2588-4978-af33-bbc4423b0c62"
      },
      "execution_count": 11,
      "outputs": [
        {
          "output_type": "stream",
          "name": "stdout",
          "text": [
            "Looking in indexes: https://pypi.org/simple, https://us-python.pkg.dev/colab-wheels/public/simple/\n",
            "Requirement already satisfied: pygumroad in /usr/local/lib/python3.8/dist-packages (0.0.2)\n",
            "Requirement already satisfied: requests-toolbelt>=0.9.1 in /usr/local/lib/python3.8/dist-packages (from pygumroad) (0.10.1)\n",
            "Requirement already satisfied: requests>=2.24.0 in /usr/local/lib/python3.8/dist-packages (from pygumroad) (2.28.1)\n",
            "Requirement already satisfied: idna<4,>=2.5 in /usr/local/lib/python3.8/dist-packages (from requests>=2.24.0->pygumroad) (2.10)\n",
            "Requirement already satisfied: charset-normalizer<3,>=2 in /usr/local/lib/python3.8/dist-packages (from requests>=2.24.0->pygumroad) (2.1.1)\n",
            "Requirement already satisfied: certifi>=2017.4.17 in /usr/local/lib/python3.8/dist-packages (from requests>=2.24.0->pygumroad) (2022.12.7)\n",
            "Requirement already satisfied: urllib3<1.27,>=1.21.1 in /usr/local/lib/python3.8/dist-packages (from requests>=2.24.0->pygumroad) (1.24.3)\n"
          ]
        }
      ]
    }
  ]
}