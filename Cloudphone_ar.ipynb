{
  "nbformat": 4,
  "nbformat_minor": 0,
  "metadata": {
    "colab": {
      "provenance": [],
      "mount_file_id": "1YghDRHmmymVr5CCt8jvdszu6UuSy5gRh",
      "authorship_tag": "ABX9TyMr1v3v2aFr16ifSerKFZ57",
      "include_colab_link": true
    },
    "kernelspec": {
      "name": "python3",
      "display_name": "Python 3"
    },
    "language_info": {
      "name": "python"
    }
  },
  "cells": [
    {
      "cell_type": "markdown",
      "metadata": {
        "id": "view-in-github",
        "colab_type": "text"
      },
      "source": [
        "<a href=\"https://colab.research.google.com/github/thePegasusai/CloudPhone/blob/main/Cloudphone_ar.ipynb\" target=\"_parent\"><img src=\"https://colab.research.google.com/assets/colab-badge.svg\" alt=\"Open In Colab\"/></a>"
      ]
    },
    {
      "cell_type": "code",
      "execution_count": null,
      "metadata": {
        "id": "lbHNZ53Sqbdo"
      },
      "outputs": [],
      "source": [
        "#  mobility phone from the cloud to accomplish milestones"
      ]
    },
    {
      "cell_type": "markdown",
      "source": [
        "**bold text**"
      ],
      "metadata": {
        "id": "TMc_SWjjq-cJ"
      }
    },
    {
      "cell_type": "code",
      "source": [
        "#site assets (gif)\n",
        "=\"200\" width=\"200\">\n",
        "  <img src=\"assets/DeepFakes/0 (2).gif\" height=\"200\" width=\"200\">\n",
        "  <img src=\"assets/DeepFakes/0 (1).gif\" height=\"200\" width=\"200\">\n",
        "  <img src=\"assets/DeepFakes/0 (4).gif\" height=\"200\" width=\"200\">\n",
        "  <img src=\"assets/DeepFakes/0 (5).gif\" height=\"200\" width=\"200\">\n",
        "  <img src=\"assets/DeepFakes/0.gif\" height=\"200\" width=\"200\">\n",
        "  <img src=\"assets/DeepFakes/1 (1).gif\" height=\"200\" width=\"200\"> \n",
        "  <img src=\"assets/DeepFakes/1.gif\" height=\"200\" width=\"200\">\n",
        "  <img src=\"assets/DeepFakes/2 (1).gif\" height=\"200\" width=\"200\">\n",
        "  <img src=\"assets/DeepFakes/2 (2).gif\" height=\"200\" width=\"200\">\n",
        "  <img src=\"assets/DeepFakes/2 (3).gif\" height=\"200\" width=\"200\">\n",
        "  <img src=\"assets/DeepFakes/2.gif\" height=\"200\" width=\"200\">\n",
        "    "
      ],
      "metadata": {
        "id": "a2lguQYKcPUw"
      },
      "execution_count": null,
      "outputs": []
    },
    {
      "cell_type": "code",
      "source": [
        "\n",
        "pip install docarray"
      ],
      "metadata": {
        "colab": {
          "base_uri": "https://localhost:8080/",
          "height": 1000
        },
        "id": "3tf-q17TmuvH",
        "outputId": "95c45124-7ff9-425f-f7db-9f57b4163569"
      },
      "execution_count": null,
      "outputs": [
        {
          "output_type": "stream",
          "name": "stdout",
          "text": [
            "Looking in indexes: https://pypi.org/simple, https://us-python.pkg.dev/colab-wheels/public/simple/\n",
            "Collecting docarray\n",
            "  Downloading docarray-0.20.1.tar.gz (651 kB)\n",
            "\u001b[K     |████████████████████████████████| 651 kB 4.9 MB/s \n",
            "\u001b[?25h  Installing build dependencies ... \u001b[?25l\u001b[?25hdone\n",
            "  Getting requirements to build wheel ... \u001b[?25l\u001b[?25hdone\n",
            "    Preparing wheel metadata ... \u001b[?25l\u001b[?25hdone\n",
            "Collecting rich>=12.0.0\n",
            "  Downloading rich-12.6.0-py3-none-any.whl (237 kB)\n",
            "\u001b[K     |████████████████████████████████| 237 kB 43.9 MB/s \n",
            "\u001b[?25hRequirement already satisfied: numpy in /usr/local/lib/python3.8/dist-packages (from docarray) (1.21.6)\n",
            "Collecting jina-hubble-sdk>=0.24.0\n",
            "  Downloading jina_hubble_sdk-0.28.0-py3-none-any.whl (62 kB)\n",
            "\u001b[K     |████████████████████████████████| 62 kB 806 kB/s \n",
            "\u001b[?25hRequirement already satisfied: aiohttp in /usr/local/lib/python3.8/dist-packages (from jina-hubble-sdk>=0.24.0->docarray) (3.8.3)\n",
            "Requirement already satisfied: requests in /usr/local/lib/python3.8/dist-packages (from jina-hubble-sdk>=0.24.0->docarray) (2.28.1)\n",
            "Collecting pathspec\n",
            "  Downloading pathspec-0.10.3-py3-none-any.whl (29 kB)\n",
            "Collecting docker\n",
            "  Downloading docker-6.0.1-py3-none-any.whl (147 kB)\n",
            "\u001b[K     |████████████████████████████████| 147 kB 49.1 MB/s \n",
            "\u001b[?25hRequirement already satisfied: pyyaml in /usr/local/lib/python3.8/dist-packages (from jina-hubble-sdk>=0.24.0->docarray) (6.0)\n",
            "Requirement already satisfied: importlib-metadata in /usr/local/lib/python3.8/dist-packages (from jina-hubble-sdk>=0.24.0->docarray) (5.1.0)\n",
            "Requirement already satisfied: filelock in /usr/local/lib/python3.8/dist-packages (from jina-hubble-sdk>=0.24.0->docarray) (3.8.2)\n",
            "Requirement already satisfied: pygments<3.0.0,>=2.6.0 in /usr/local/lib/python3.8/dist-packages (from rich>=12.0.0->docarray) (2.6.1)\n",
            "Collecting commonmark<0.10.0,>=0.9.0\n",
            "  Downloading commonmark-0.9.1-py2.py3-none-any.whl (51 kB)\n",
            "\u001b[K     |████████████████████████████████| 51 kB 3.5 MB/s \n",
            "\u001b[?25hRequirement already satisfied: typing-extensions<5.0,>=4.0.0 in /usr/local/lib/python3.8/dist-packages (from rich>=12.0.0->docarray) (4.4.0)\n",
            "Requirement already satisfied: frozenlist>=1.1.1 in /usr/local/lib/python3.8/dist-packages (from aiohttp->jina-hubble-sdk>=0.24.0->docarray) (1.3.3)\n",
            "Requirement already satisfied: attrs>=17.3.0 in /usr/local/lib/python3.8/dist-packages (from aiohttp->jina-hubble-sdk>=0.24.0->docarray) (22.1.0)\n",
            "Requirement already satisfied: multidict<7.0,>=4.5 in /usr/local/lib/python3.8/dist-packages (from aiohttp->jina-hubble-sdk>=0.24.0->docarray) (6.0.3)\n",
            "Requirement already satisfied: aiosignal>=1.1.2 in /usr/local/lib/python3.8/dist-packages (from aiohttp->jina-hubble-sdk>=0.24.0->docarray) (1.3.1)\n",
            "Requirement already satisfied: charset-normalizer<3.0,>=2.0 in /usr/local/lib/python3.8/dist-packages (from aiohttp->jina-hubble-sdk>=0.24.0->docarray) (2.1.1)\n",
            "Requirement already satisfied: yarl<2.0,>=1.0 in /usr/local/lib/python3.8/dist-packages (from aiohttp->jina-hubble-sdk>=0.24.0->docarray) (1.8.2)\n",
            "Requirement already satisfied: async-timeout<5.0,>=4.0.0a3 in /usr/local/lib/python3.8/dist-packages (from aiohttp->jina-hubble-sdk>=0.24.0->docarray) (4.0.2)\n",
            "Requirement already satisfied: idna>=2.0 in /usr/local/lib/python3.8/dist-packages (from yarl<2.0,>=1.0->aiohttp->jina-hubble-sdk>=0.24.0->docarray) (2.10)\n",
            "Collecting urllib3>=1.26.0\n",
            "  Downloading urllib3-1.26.13-py2.py3-none-any.whl (140 kB)\n",
            "\u001b[K     |████████████████████████████████| 140 kB 47.2 MB/s \n",
            "\u001b[?25hCollecting websocket-client>=0.32.0\n",
            "  Downloading websocket_client-1.4.2-py3-none-any.whl (55 kB)\n",
            "\u001b[K     |████████████████████████████████| 55 kB 3.2 MB/s \n",
            "\u001b[?25hRequirement already satisfied: packaging>=14.0 in /usr/local/lib/python3.8/dist-packages (from docker->jina-hubble-sdk>=0.24.0->docarray) (21.3)\n",
            "Requirement already satisfied: pyparsing!=3.0.5,>=2.0.2 in /usr/local/lib/python3.8/dist-packages (from packaging>=14.0->docker->jina-hubble-sdk>=0.24.0->docarray) (3.0.9)\n",
            "Requirement already satisfied: certifi>=2017.4.17 in /usr/local/lib/python3.8/dist-packages (from requests->jina-hubble-sdk>=0.24.0->docarray) (2022.12.7)\n",
            "Requirement already satisfied: zipp>=0.5 in /usr/local/lib/python3.8/dist-packages (from importlib-metadata->jina-hubble-sdk>=0.24.0->docarray) (3.11.0)\n",
            "Building wheels for collected packages: docarray\n",
            "  Building wheel for docarray (PEP 517) ... \u001b[?25l\u001b[?25hdone\n",
            "  Created wheel for docarray: filename=docarray-0.20.1-py3-none-any.whl size=712520 sha256=9ee852f84fa028a328195ac968e845def889254cf22136895bf1d06fc61d464c\n",
            "  Stored in directory: /root/.cache/pip/wheels/69/7e/a4/cbebd49dcbd2f704da0202b469d883931c24ac78ab365aca23\n",
            "Successfully built docarray\n",
            "Installing collected packages: urllib3, websocket-client, commonmark, rich, pathspec, docker, jina-hubble-sdk, docarray\n",
            "  Attempting uninstall: urllib3\n",
            "    Found existing installation: urllib3 1.24.3\n",
            "    Uninstalling urllib3-1.24.3:\n",
            "      Successfully uninstalled urllib3-1.24.3\n",
            "Successfully installed commonmark-0.9.1 docarray-0.20.1 docker-6.0.1 jina-hubble-sdk-0.28.0 pathspec-0.10.3 rich-12.6.0 urllib3-1.26.13 websocket-client-1.4.2\n"
          ]
        },
        {
          "output_type": "display_data",
          "data": {
            "application/vnd.colab-display-data+json": {
              "pip_warning": {
                "packages": [
                  "urllib3"
                ]
              }
            }
          },
          "metadata": {}
        }
      ]
    },
    {
      "cell_type": "code",
      "source": [
        "#DocArray is a library for nested, unstructured, multimodal data in transit, including text, image, audio, video, 3D mesh, etc. It allows deep-learning engineers to efficiently process, embed, search, recommend, store, and transfer multimodal data with a Pythonic API.\n",
        "\n",
        "#🚪 Door to multimodal world: super-expressive data structure for representing complicated/mixed/nested text, image, video, audio, 3D mesh data. The foundation data structure of Jina, CLIP-as-service, DALL·E Flow, DiscoArt etc.\n",
        "\n",
        "#🧑‍🔬 Data science powerhouse: greatly accelerate data scientists’ work on embedding, k-NN matching, querying, visualizing, evaluating via Torch/TensorFlow/ONNX/PaddlePaddle on CPU/GPU.\n",
        "\n",
        "#🚡 Data in transit: optimized for network communication, ready-to-wire at anytime with fast and compressed serialization in Protobuf, bytes, base64, JSON, CSV, DataFrame. Perfect for streaming and out-of-memory data.\n",
        "\n",
        "#🔎 One-stop k-NN: Unified and consistent API for mainstream vector databases that allows nearest neighbor search including Elasticsearch, Redis, AnnLite, Qdrant, Weaviate.\n",
        "\n",
        "#👒 For modern apps: GraphQL support makes your server versatile on request and response; built-in data validation and JSON Schema (OpenAPI) help you build reliable web services.\n",
        "\n",
        "#🐍 Pythonic experience: as easy as a Python list. If you can Python, you can DocArray. Intuitive idioms and type annotation simplify the code you write.\n",
        "\n",
        "#🛸 IDE integration: pretty-print and visualization on Jupyter notebook and Google Colab; comprehensive autocomplete and type hints in PyCharm and VS Code.\n",
        "import docarray\n",
        "docarray.__version__\n",
        "'0.1.0'\n",
        "from docarray import Document, DocumentArray"
      ],
      "metadata": {
        "id": "ErKJSIdKmvBi"
      },
      "execution_count": 16,
      "outputs": []
    },
    {
      "cell_type": "markdown",
      "source": [],
      "metadata": {
        "id": "YCQ6qgoZnH8y"
      }
    },
    {
      "cell_type": "code",
      "source": [
        "from google.colab import drive\n",
        "drive.mount('/content/drive')"
      ],
      "metadata": {
        "id": "t4PpeRm0citc",
        "outputId": "ca6dd788-6b0a-4cce-cba6-ce223dae22ca",
        "colab": {
          "base_uri": "https://localhost:8080/"
        }
      },
      "execution_count": null,
      "outputs": [
        {
          "output_type": "stream",
          "name": "stdout",
          "text": [
            "Drive already mounted at /content/drive; to attempt to forcibly remount, call drive.mount(\"/content/drive\", force_remount=True).\n"
          ]
        }
      ]
    },
    {
      "cell_type": "code",
      "source": [
        "#gumroad api \n",
        "pip install pygumroad"
      ],
      "metadata": {
        "id": "N2oTWAn_ccmx",
        "colab": {
          "base_uri": "https://localhost:8080/"
        },
        "outputId": "e676389d-2588-4978-af33-bbc4423b0c62"
      },
      "execution_count": null,
      "outputs": [
        {
          "output_type": "stream",
          "name": "stdout",
          "text": [
            "Looking in indexes: https://pypi.org/simple, https://us-python.pkg.dev/colab-wheels/public/simple/\n",
            "Requirement already satisfied: pygumroad in /usr/local/lib/python3.8/dist-packages (0.0.2)\n",
            "Requirement already satisfied: requests-toolbelt>=0.9.1 in /usr/local/lib/python3.8/dist-packages (from pygumroad) (0.10.1)\n",
            "Requirement already satisfied: requests>=2.24.0 in /usr/local/lib/python3.8/dist-packages (from pygumroad) (2.28.1)\n",
            "Requirement already satisfied: idna<4,>=2.5 in /usr/local/lib/python3.8/dist-packages (from requests>=2.24.0->pygumroad) (2.10)\n",
            "Requirement already satisfied: charset-normalizer<3,>=2 in /usr/local/lib/python3.8/dist-packages (from requests>=2.24.0->pygumroad) (2.1.1)\n",
            "Requirement already satisfied: certifi>=2017.4.17 in /usr/local/lib/python3.8/dist-packages (from requests>=2.24.0->pygumroad) (2022.12.7)\n",
            "Requirement already satisfied: urllib3<1.27,>=1.21.1 in /usr/local/lib/python3.8/dist-packages (from requests>=2.24.0->pygumroad) (1.24.3)\n"
          ]
        }
      ]
    }
  ]
}