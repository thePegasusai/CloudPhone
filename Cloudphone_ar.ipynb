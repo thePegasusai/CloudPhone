{
  "nbformat": 4,
  "nbformat_minor": 0,
  "metadata": {
    "colab": {
      "provenance": [],
      "mount_file_id": "1YghDRHmmymVr5CCt8jvdszu6UuSy5gRh",
      "authorship_tag": "ABX9TyNtzKD2BN0OH5L3L8rp0VZX",
      "include_colab_link": true
    },
    "kernelspec": {
      "name": "python3",
      "display_name": "Python 3"
    },
    "language_info": {
      "name": "python"
    }
  },
  "cells": [
    {
      "cell_type": "markdown",
      "metadata": {
        "id": "view-in-github",
        "colab_type": "text"
      },
      "source": [
        "<a href=\"https://colab.research.google.com/github/thePegasusai/CloudPhone/blob/main/Cloudphone_ar.ipynb\" target=\"_parent\"><img src=\"https://colab.research.google.com/assets/colab-badge.svg\" alt=\"Open In Colab\"/></a>"
      ]
    },
    {
      "cell_type": "code",
      "execution_count": 1,
      "metadata": {
        "id": "lbHNZ53Sqbdo"
      },
      "outputs": [],
      "source": [
        "#  mobility phone from the cloud to accomplish milestones"
      ]
    },
    {
      "cell_type": "markdown",
      "source": [
        "# Assets"
      ],
      "metadata": {
        "id": "TMc_SWjjq-cJ"
      }
    },
    {
      "cell_type": "code",
      "source": [
        "#site assets (gif)\n",
        "=\"200\" width=\"200\">\n",
        "  <img src=\"assets/DeepFakes/0 (2).gif\" height=\"200\" width=\"200\">\n",
        "  <img src=\"assets/DeepFakes/0 (1).gif\" height=\"200\" width=\"200\">\n",
        "  <img src=\"assets/DeepFakes/0 (4).gif\" height=\"200\" width=\"200\">\n",
        "  <img src=\"assets/DeepFakes/0 (5).gif\" height=\"200\" width=\"200\">\n",
        "  <img src=\"assets/DeepFakes/0.gif\" height=\"200\" width=\"200\">\n",
        "  <img src=\"assets/DeepFakes/1 (1).gif\" height=\"200\" width=\"200\"> \n",
        "  <img src=\"assets/DeepFakes/1.gif\" height=\"200\" width=\"200\">\n",
        "  <img src=\"assets/DeepFakes/2 (1).gif\" height=\"200\" width=\"200\">\n",
        "  <img src=\"assets/DeepFakes/2 (2).gif\" height=\"200\" width=\"200\">\n",
        "  <img src=\"assets/DeepFakes/2 (3).gif\" height=\"200\" width=\"200\">\n",
        "  <img src=\"assets/DeepFakes/2.gif\" height=\"200\" width=\"200\">\n",
        "    "
      ],
      "metadata": {
        "id": "a2lguQYKcPUw",
        "colab": {
          "base_uri": "https://localhost:8080/",
          "height": 131
        },
        "outputId": "ae17bf9f-7ba0-47dd-b65b-b82e222f7e4a"
      },
      "execution_count": 2,
      "outputs": [
        {
          "output_type": "error",
          "ename": "SyntaxError",
          "evalue": "ignored",
          "traceback": [
            "\u001b[0;36m  File \u001b[0;32m\"<ipython-input-2-f2f504aede5b>\"\u001b[0;36m, line \u001b[0;32m2\u001b[0m\n\u001b[0;31m    =\"200\" width=\"200\">\u001b[0m\n\u001b[0m    ^\u001b[0m\n\u001b[0;31mSyntaxError\u001b[0m\u001b[0;31m:\u001b[0m invalid syntax\n"
          ]
        }
      ]
    },
    {
      "cell_type": "code",
      "source": [
        "!pip install docarray"
      ],
      "metadata": {
        "colab": {
          "base_uri": "https://localhost:8080/"
        },
        "id": "3tf-q17TmuvH",
        "outputId": "e0949f1f-1e3b-4f8b-9624-04de0cc393ed"
      },
      "execution_count": 6,
      "outputs": [
        {
          "output_type": "stream",
          "name": "stdout",
          "text": [
            "Looking in indexes: https://pypi.org/simple, https://us-python.pkg.dev/colab-wheels/public/simple/\n",
            "Collecting docarray\n",
            "  Downloading docarray-0.20.1.tar.gz (651 kB)\n",
            "\u001b[K     |████████████████████████████████| 651 kB 5.0 MB/s \n",
            "\u001b[?25h  Installing build dependencies ... \u001b[?25l\u001b[?25hdone\n",
            "  Getting requirements to build wheel ... \u001b[?25l\u001b[?25hdone\n",
            "    Preparing wheel metadata ... \u001b[?25l\u001b[?25hdone\n",
            "Requirement already satisfied: numpy in /usr/local/lib/python3.8/dist-packages (from docarray) (1.21.6)\n",
            "Collecting jina-hubble-sdk>=0.24.0\n",
            "  Downloading jina_hubble_sdk-0.28.0-py3-none-any.whl (62 kB)\n",
            "\u001b[K     |████████████████████████████████| 62 kB 877 kB/s \n",
            "\u001b[?25hCollecting rich>=12.0.0\n",
            "  Downloading rich-12.6.0-py3-none-any.whl (237 kB)\n",
            "\u001b[K     |████████████████████████████████| 237 kB 62.9 MB/s \n",
            "\u001b[?25hRequirement already satisfied: aiohttp in /usr/local/lib/python3.8/dist-packages (from jina-hubble-sdk>=0.24.0->docarray) (3.8.3)\n",
            "Requirement already satisfied: filelock in /usr/local/lib/python3.8/dist-packages (from jina-hubble-sdk>=0.24.0->docarray) (3.8.2)\n",
            "Collecting pathspec\n",
            "  Downloading pathspec-0.10.3-py3-none-any.whl (29 kB)\n",
            "Collecting docker\n",
            "  Downloading docker-6.0.1-py3-none-any.whl (147 kB)\n",
            "\u001b[K     |████████████████████████████████| 147 kB 49.6 MB/s \n",
            "\u001b[?25hRequirement already satisfied: requests in /usr/local/lib/python3.8/dist-packages (from jina-hubble-sdk>=0.24.0->docarray) (2.28.1)\n",
            "Requirement already satisfied: pyyaml in /usr/local/lib/python3.8/dist-packages (from jina-hubble-sdk>=0.24.0->docarray) (6.0)\n",
            "Requirement already satisfied: importlib-metadata in /usr/local/lib/python3.8/dist-packages (from jina-hubble-sdk>=0.24.0->docarray) (5.1.0)\n",
            "Collecting commonmark<0.10.0,>=0.9.0\n",
            "  Downloading commonmark-0.9.1-py2.py3-none-any.whl (51 kB)\n",
            "\u001b[K     |████████████████████████████████| 51 kB 5.4 MB/s \n",
            "\u001b[?25hRequirement already satisfied: pygments<3.0.0,>=2.6.0 in /usr/local/lib/python3.8/dist-packages (from rich>=12.0.0->docarray) (2.6.1)\n",
            "Requirement already satisfied: typing-extensions<5.0,>=4.0.0 in /usr/local/lib/python3.8/dist-packages (from rich>=12.0.0->docarray) (4.4.0)\n",
            "Requirement already satisfied: charset-normalizer<3.0,>=2.0 in /usr/local/lib/python3.8/dist-packages (from aiohttp->jina-hubble-sdk>=0.24.0->docarray) (2.1.1)\n",
            "Requirement already satisfied: yarl<2.0,>=1.0 in /usr/local/lib/python3.8/dist-packages (from aiohttp->jina-hubble-sdk>=0.24.0->docarray) (1.8.2)\n",
            "Requirement already satisfied: frozenlist>=1.1.1 in /usr/local/lib/python3.8/dist-packages (from aiohttp->jina-hubble-sdk>=0.24.0->docarray) (1.3.3)\n",
            "Requirement already satisfied: attrs>=17.3.0 in /usr/local/lib/python3.8/dist-packages (from aiohttp->jina-hubble-sdk>=0.24.0->docarray) (22.1.0)\n",
            "Requirement already satisfied: aiosignal>=1.1.2 in /usr/local/lib/python3.8/dist-packages (from aiohttp->jina-hubble-sdk>=0.24.0->docarray) (1.3.1)\n",
            "Requirement already satisfied: async-timeout<5.0,>=4.0.0a3 in /usr/local/lib/python3.8/dist-packages (from aiohttp->jina-hubble-sdk>=0.24.0->docarray) (4.0.2)\n",
            "Requirement already satisfied: multidict<7.0,>=4.5 in /usr/local/lib/python3.8/dist-packages (from aiohttp->jina-hubble-sdk>=0.24.0->docarray) (6.0.3)\n",
            "Requirement already satisfied: idna>=2.0 in /usr/local/lib/python3.8/dist-packages (from yarl<2.0,>=1.0->aiohttp->jina-hubble-sdk>=0.24.0->docarray) (2.10)\n",
            "Collecting websocket-client>=0.32.0\n",
            "  Downloading websocket_client-1.4.2-py3-none-any.whl (55 kB)\n",
            "\u001b[K     |████████████████████████████████| 55 kB 3.6 MB/s \n",
            "\u001b[?25hCollecting urllib3>=1.26.0\n",
            "  Downloading urllib3-1.26.13-py2.py3-none-any.whl (140 kB)\n",
            "\u001b[K     |████████████████████████████████| 140 kB 59.0 MB/s \n",
            "\u001b[?25hRequirement already satisfied: packaging>=14.0 in /usr/local/lib/python3.8/dist-packages (from docker->jina-hubble-sdk>=0.24.0->docarray) (21.3)\n",
            "Requirement already satisfied: pyparsing!=3.0.5,>=2.0.2 in /usr/local/lib/python3.8/dist-packages (from packaging>=14.0->docker->jina-hubble-sdk>=0.24.0->docarray) (3.0.9)\n",
            "Requirement already satisfied: certifi>=2017.4.17 in /usr/local/lib/python3.8/dist-packages (from requests->jina-hubble-sdk>=0.24.0->docarray) (2022.12.7)\n",
            "Requirement already satisfied: zipp>=0.5 in /usr/local/lib/python3.8/dist-packages (from importlib-metadata->jina-hubble-sdk>=0.24.0->docarray) (3.11.0)\n",
            "Building wheels for collected packages: docarray\n",
            "  Building wheel for docarray (PEP 517) ... \u001b[?25l\u001b[?25hdone\n",
            "  Created wheel for docarray: filename=docarray-0.20.1-py3-none-any.whl size=712520 sha256=4e2c3ff476cefde6133d0029a2e1644b4811567dec888fffd0202f406b9c1058\n",
            "  Stored in directory: /root/.cache/pip/wheels/69/7e/a4/cbebd49dcbd2f704da0202b469d883931c24ac78ab365aca23\n",
            "Successfully built docarray\n",
            "Installing collected packages: urllib3, websocket-client, commonmark, rich, pathspec, docker, jina-hubble-sdk, docarray\n",
            "  Attempting uninstall: urllib3\n",
            "    Found existing installation: urllib3 1.24.3\n",
            "    Uninstalling urllib3-1.24.3:\n",
            "      Successfully uninstalled urllib3-1.24.3\n",
            "Successfully installed commonmark-0.9.1 docarray-0.20.1 docker-6.0.1 jina-hubble-sdk-0.28.0 pathspec-0.10.3 rich-12.6.0 urllib3-1.26.13 websocket-client-1.4.2\n"
          ]
        }
      ]
    },
    {
      "cell_type": "code",
      "source": [
        "#DocArray is a library for nested, unstructured, multimodal data in transit, including text, image, audio, video, 3D mesh, etc. It allows deep-learning engineers to efficiently process, embed, search, recommend, store, and transfer multimodal data with a Pythonic API.\n",
        "\n",
        "#🚪 Door to multimodal world: super-expressive data structure for representing complicated/mixed/nested text, image, video, audio, 3D mesh data. The foundation data structure of Jina, CLIP-as-service, DALL·E Flow, DiscoArt etc.\n",
        "\n",
        "#🧑‍🔬 Data science powerhouse: greatly accelerate data scientists’ work on embedding, k-NN matching, querying, visualizing, evaluating via Torch/TensorFlow/ONNX/PaddlePaddle on CPU/GPU.\n",
        "\n",
        "#🚡 Data in transit: optimized for network communication, ready-to-wire at anytime with fast and compressed serialization in Protobuf, bytes, base64, JSON, CSV, DataFrame. Perfect for streaming and out-of-memory data.\n",
        "\n",
        "#🔎 One-stop k-NN: Unified and consistent API for mainstream vector databases that allows nearest neighbor search including Elasticsearch, Redis, AnnLite, Qdrant, Weaviate.\n",
        "\n",
        "#👒 For modern apps: GraphQL support makes your server versatile on request and response; built-in data validation and JSON Schema (OpenAPI) help you build reliable web services.\n",
        "\n",
        "#🐍 Pythonic experience: as easy as a Python list. If you can Python, you can DocArray. Intuitive idioms and type annotation simplify the code you write.\n",
        "\n",
        "#🛸 IDE integration: pretty-print and visualization on Jupyter notebook and Google Colab; comprehensive autocomplete and type hints in PyCharm and VS Code.\n",
        "import docarray\n",
        "docarray.__version__\n",
        "'0.1.0'\n",
        "from docarray import Document, DocumentArray"
      ],
      "metadata": {
        "id": "ErKJSIdKmvBi"
      },
      "execution_count": 7,
      "outputs": []
    },
    {
      "cell_type": "markdown",
      "source": [
        "\n",
        "\n",
        "> Indented block\n",
        "\n"
      ],
      "metadata": {
        "id": "R_z_hoaZp17s"
      }
    },
    {
      "cell_type": "markdown",
      "source": [
        "# Google Drive"
      ],
      "metadata": {
        "id": "YCQ6qgoZnH8y"
      }
    },
    {
      "cell_type": "code",
      "source": [
        "from google.colab import drive\n",
        "drive.mount('/content/drive')"
      ],
      "metadata": {
        "id": "t4PpeRm0citc",
        "outputId": "59092a06-cffb-4079-9199-6b28a82cb1e0",
        "colab": {
          "base_uri": "https://localhost:8080/"
        }
      },
      "execution_count": 3,
      "outputs": [
        {
          "output_type": "stream",
          "name": "stdout",
          "text": [
            "Drive already mounted at /content/drive; to attempt to forcibly remount, call drive.mount(\"/content/drive\", force_remount=True).\n"
          ]
        }
      ]
    },
    {
      "cell_type": "markdown",
      "source": [
        "# Gumroad "
      ],
      "metadata": {
        "id": "DHa-21A7jnZI"
      }
    },
    {
      "cell_type": "code",
      "source": [
        "#gumroad api\n",
        "!pip install pygumroad\n",
        "!git clone https://github.com/opsdisk/pygumroad.git"
      ],
      "metadata": {
        "id": "N2oTWAn_ccmx",
        "colab": {
          "base_uri": "https://localhost:8080/"
        },
        "outputId": "2db6b74d-0765-4d39-f1cc-8d845e8bc994"
      },
      "execution_count": 1,
      "outputs": [
        {
          "output_type": "stream",
          "name": "stdout",
          "text": [
            "Looking in indexes: https://pypi.org/simple, https://us-python.pkg.dev/colab-wheels/public/simple/\n",
            "Requirement already satisfied: pygumroad in /usr/local/lib/python3.8/dist-packages (0.0.2)\n",
            "Requirement already satisfied: requests>=2.24.0 in /usr/local/lib/python3.8/dist-packages (from pygumroad) (2.24.0)\n",
            "Requirement already satisfied: requests-toolbelt>=0.9.1 in /usr/local/lib/python3.8/dist-packages (from pygumroad) (0.9.1)\n",
            "Requirement already satisfied: chardet<4,>=3.0.2 in /usr/local/lib/python3.8/dist-packages (from requests>=2.24.0->pygumroad) (3.0.4)\n",
            "Requirement already satisfied: idna<3,>=2.5 in /usr/local/lib/python3.8/dist-packages (from requests>=2.24.0->pygumroad) (2.10)\n",
            "Requirement already satisfied: urllib3!=1.25.0,!=1.25.1,<1.26,>=1.21.1 in /usr/local/lib/python3.8/dist-packages (from requests>=2.24.0->pygumroad) (1.25.11)\n",
            "Requirement already satisfied: certifi>=2017.4.17 in /usr/local/lib/python3.8/dist-packages (from requests>=2.24.0->pygumroad) (2022.12.7)\n",
            "fatal: destination path 'pygumroad' already exists and is not an empty directory.\n"
          ]
        }
      ]
    },
    {
      "cell_type": "code",
      "source": [
        "cd pygumroad"
      ],
      "metadata": {
        "colab": {
          "base_uri": "https://localhost:8080/"
        },
        "id": "H8WE7WRgnNiu",
        "outputId": "ae38f2eb-acf3-4ac1-ea68-fc4e76e11fc8"
      },
      "execution_count": 16,
      "outputs": [
        {
          "output_type": "stream",
          "name": "stdout",
          "text": [
            "/content/pygumroad/pygumroad\n"
          ]
        }
      ]
    },
    {
      "cell_type": "code",
      "source": [
        "!pip3 install -r requirements.txt\n",
        "\n",
        "\n"
      ],
      "metadata": {
        "colab": {
          "base_uri": "https://localhost:8080/"
        },
        "id": "Ex95GVKenIne",
        "outputId": "43793c7a-06d8-4f76-a1fd-3cc8b0b9655f"
      },
      "execution_count": 19,
      "outputs": [
        {
          "output_type": "stream",
          "name": "stdout",
          "text": [
            "\u001b[31mERROR: Could not open requirements file: [Errno 2] No such file or directory: 'requirements.txt'\u001b[0m\n"
          ]
        }
      ]
    },
    {
      "cell_type": "markdown",
      "source": [],
      "metadata": {
        "id": "c6wA2s2jm-gF"
      }
    }
  ]
}