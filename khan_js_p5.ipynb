{
  "nbformat": 4,
  "nbformat_minor": 0,
  "metadata": {
    "colab": {
      "provenance": [],
      "collapsed_sections": [
        "jiR3IyqE-Gs6",
        "Xeb9qpx_vUQw"
      ],
      "include_colab_link": true
    },
    "kernelspec": {
      "name": "python3",
      "display_name": "Python 3"
    }
  },
  "cells": [
    {
      "cell_type": "markdown",
      "metadata": {
        "id": "view-in-github",
        "colab_type": "text"
      },
      "source": [
        "<a href=\"https://colab.research.google.com/github/thePegasusai/CloudPhone/blob/main/khan_js_p5.ipynb\" target=\"_parent\"><img src=\"https://colab.research.google.com/assets/colab-badge.svg\" alt=\"Open In Colab\"/></a>"
      ]
    },
    {
      "metadata": {
        "id": "_S1Bt7W6imS0"
      },
      "cell_type": "markdown",
      "source": [
        "note ประกอบการเรียนวิชา [Intro to JS: Drawing and Animation](https://www.khanacademy.org/computing/computer-programming/programming)"
      ]
    },
    {
      "metadata": {
        "id": "Ildc37rHihEF"
      },
      "cell_type": "code",
      "source": [
        "from IPython.display import HTML, SVG\n",
        "from IPython.core.magic import register_cell_magic"
      ],
      "execution_count": 1,
      "outputs": []
    },
    {
      "metadata": {
        "id": "jiR3IyqE-Gs6"
      },
      "cell_type": "markdown",
      "source": [
        "## JS"
      ]
    },
    {
      "metadata": {
        "id": "XglEKxFni-KV",
        "colab": {
          "base_uri": "https://localhost:8080/",
          "height": 64
        },
        "outputId": "466d59ce-d243-4059-8bf7-adc12f245a5d"
      },
      "cell_type": "code",
      "source": [
        "HTML('''\n",
        "<h2>Hello</h2>\n",
        "''')"
      ],
      "execution_count": 2,
      "outputs": [
        {
          "output_type": "execute_result",
          "data": {
            "text/plain": [
              "<IPython.core.display.HTML object>"
            ],
            "text/html": [
              "\n",
              "<h2>Hello</h2>\n"
            ]
          },
          "metadata": {},
          "execution_count": 2
        }
      ]
    },
    {
      "metadata": {
        "id": "sg1HbcuvkbG1"
      },
      "cell_type": "code",
      "source": [
        "def js(src):\n",
        "  return HTML(f\"\"\"\n",
        "<div class='chart'></div>\n",
        "<!-- script src=\"https://d3js.org/d3.v5.min.js\"></script -->\n",
        "<script src=\"https://cdnjs.cloudflare.com/ajax/libs/processing.js/1.6.6/processing.js\"></script>\n",
        "<script>\n",
        "{src}\n",
        "</script>\n",
        "\"\"\")"
      ],
      "execution_count": 3,
      "outputs": []
    },
    {
      "metadata": {
        "id": "oqEj2RSxk9at",
        "colab": {
          "base_uri": "https://localhost:8080/",
          "height": 34
        },
        "outputId": "8980d19d-b956-46f8-9280-d63c6ce3128a"
      },
      "cell_type": "code",
      "source": [
        "js('''\n",
        "document.querySelector('.chart').innerHTML = 'Bye';\n",
        "''')"
      ],
      "execution_count": 4,
      "outputs": [
        {
          "output_type": "execute_result",
          "data": {
            "text/plain": [
              "<IPython.core.display.HTML object>"
            ],
            "text/html": [
              "\n",
              "<div class='chart'></div>\n",
              "<!-- script src=\"https://d3js.org/d3.v5.min.js\"></script -->\n",
              "<script src=\"https://cdnjs.cloudflare.com/ajax/libs/processing.js/1.6.6/processing.js\"></script>\n",
              "<script>\n",
              "\n",
              "document.querySelector('.chart').innerHTML = 'Bye';\n",
              "\n",
              "</script>\n"
            ]
          },
          "metadata": {},
          "execution_count": 4
        }
      ]
    },
    {
      "metadata": {
        "id": "Xeb9qpx_vUQw"
      },
      "cell_type": "markdown",
      "source": [
        "## AnimeJS\n",
        "ลอง search net แล้ว พบว่า anime.js ดูน่าสนใจกว่าตัวอื่น\n",
        "\n",
        "ตัวอย่าง [codepen](https://codepen.io/juliangarnier/pen/BzQoXg)"
      ]
    },
    {
      "metadata": {
        "id": "VqKpVso8rD8K",
        "colab": {
          "base_uri": "https://localhost:8080/",
          "height": 105
        },
        "outputId": "a453ad3c-0cf6-437c-ba2f-0e43c95aaeae"
      },
      "cell_type": "code",
      "source": [
        "HTML(\"\"\"\n",
        "<style>\n",
        "article div {\n",
        "  width: 2rem;\n",
        "  height: 2rem;\n",
        "  margin: .5rem;\n",
        "}\n",
        ".green {\n",
        "  background-color: green;\n",
        "}\n",
        ".blue {\n",
        "  background-color: blue;\n",
        "}\n",
        "</style>\n",
        "\n",
        "<section>\n",
        "  <article>\n",
        "    <div class=\"blue\"></div>\n",
        "    <div class=\"green\"></div>\n",
        "  </article>\n",
        "</section>\n",
        "\n",
        "<script src=\"https://cdnjs.cloudflare.com/ajax/libs/animejs/2.2.0/anime.js\"></script>\n",
        "<script>\n",
        "\n",
        "  var myAnimation = anime({\n",
        "    targets: ['.blue', '.green'],\n",
        "    translateX: '13rem',\n",
        "    rotate: 180,\n",
        "    borderRadius: '8px',\n",
        "    duration: 5000,\n",
        "    loop: false\n",
        "  });\n",
        "\n",
        "</script>\n",
        "\"\"\")   # ทำงานได้ละ  ค่อยยังชั่ว"
      ],
      "execution_count": 5,
      "outputs": [
        {
          "output_type": "execute_result",
          "data": {
            "text/plain": [
              "<IPython.core.display.HTML object>"
            ],
            "text/html": [
              "\n",
              "<style>\n",
              "article div {\n",
              "  width: 2rem;\n",
              "  height: 2rem;\n",
              "  margin: .5rem;\n",
              "}\n",
              ".green {\n",
              "  background-color: green;\n",
              "}\n",
              ".blue {\n",
              "  background-color: blue;\n",
              "}\n",
              "</style>\n",
              "\n",
              "<section>\n",
              "  <article>\n",
              "    <div class=\"blue\"></div>\n",
              "    <div class=\"green\"></div>\n",
              "  </article>\n",
              "</section>\n",
              "\n",
              "<script src=\"https://cdnjs.cloudflare.com/ajax/libs/animejs/2.2.0/anime.js\"></script>\n",
              "<script>\n",
              "\n",
              "  var myAnimation = anime({\n",
              "    targets: ['.blue', '.green'],\n",
              "    translateX: '13rem',\n",
              "    rotate: 180,\n",
              "    borderRadius: '8px',\n",
              "    duration: 5000,\n",
              "    loop: false\n",
              "  });\n",
              "\n",
              "</script>\n"
            ]
          },
          "metadata": {},
          "execution_count": 5
        }
      ]
    },
    {
      "metadata": {
        "id": "RBdSAStJ9UeT"
      },
      "cell_type": "markdown",
      "source": [
        "# P5.js"
      ]
    },
    {
      "metadata": {
        "id": "a6H0oeycDesJ"
      },
      "cell_type": "markdown",
      "source": [
        "การแปลง code จาก processing มาเป็น p5 [transition](https://github.com/processing/p5.js/wiki/Processing-transition)"
      ]
    },
    {
      "metadata": {
        "id": "iV_rwynHpGAM",
        "colab": {
          "base_uri": "https://localhost:8080/",
          "height": 121
        },
        "outputId": "76d2b569-1ba3-427f-8641-e3147e8dcfb3"
      },
      "cell_type": "code",
      "source": [
        "# เช็คจาก processing เขาเปลี่ยนไปใช้ p5.js แทน\n",
        "HTML('''\n",
        "<script src=\"https://cdnjs.cloudflare.com/ajax/libs/p5.js/0.6.0/p5.js\"></script>\n",
        "<script>\n",
        "new p5();\n",
        "\n",
        "ellipse(50, 50, 80, 80);\n",
        "\n",
        "</script>\n",
        "''')  # ทำไมไม่เวิร์ค   เจอละ ต้องสร้าง new p5()  ตาม github.com/processing/p5.js/wiki/p5.js-overview"
      ],
      "execution_count": 6,
      "outputs": [
        {
          "output_type": "execute_result",
          "data": {
            "text/plain": [
              "<IPython.core.display.HTML object>"
            ],
            "text/html": [
              "\n",
              "<script src=\"https://cdnjs.cloudflare.com/ajax/libs/p5.js/0.6.0/p5.js\"></script>\n",
              "<script>\n",
              "new p5();\n",
              "\n",
              "ellipse(50, 50, 80, 80);\n",
              "\n",
              "</script>\n"
            ]
          },
          "metadata": {},
          "execution_count": 6
        }
      ]
    },
    {
      "metadata": {
        "id": "JeGu9lPl5s7e"
      },
      "cell_type": "code",
      "source": [
        "# เอาไว้เรียกง่ายๆ\n",
        "@register_cell_magic\n",
        "def ps(line, src):\n",
        "  return HTML(f\"\"\"\n",
        "  <script src=\"https://cdnjs.cloudflare.com/ajax/libs/p5.js/0.6.0/p5.js\"></script>\n",
        "  <script>\n",
        "  new p5();\n",
        "  {src.replace(\" #\", \" //\")}  // allow python-style comment\n",
        "  </script>\n",
        "  \"\"\")"
      ],
      "execution_count": null,
      "outputs": []
    },
    {
      "metadata": {
        "id": "G2RvKFeh9t_T",
        "colab": {
          "base_uri": "https://localhost:8080/",
          "height": 117
        },
        "outputId": "ae4177b2-a984-498a-b803-788f6e2da8ac"
      },
      "cell_type": "code",
      "source": [
        "%%ps\n",
        "ellipse(50, 50, 80, 80)"
      ],
      "execution_count": null,
      "outputs": [
        {
          "output_type": "execute_result",
          "data": {
            "text/html": [
              "\n",
              "  <script src=\"https://cdnjs.cloudflare.com/ajax/libs/p5.js/0.6.0/p5.js\"></script>\n",
              "  <script>\n",
              "  new p5();\n",
              "  ellipse(50, 50, 80, 80)\n",
              "  </script>\n",
              "  "
            ],
            "text/plain": [
              "<IPython.core.display.HTML object>"
            ]
          },
          "metadata": {
            "tags": []
          },
          "execution_count": 3
        }
      ]
    },
    {
      "metadata": {
        "id": "WWx4ZXRrBeap",
        "colab": {
          "base_uri": "https://localhost:8080/",
          "height": 217
        },
        "outputId": "2f3d2e55-de55-4f95-c350-8247ef4457e7"
      },
      "cell_type": "code",
      "source": [
        "%%ps\n",
        "createCanvas(200, 200)\n",
        "ellipse(50, 50, 80, 80)  # circle\n",
        "rect(50, 50, 80, 80)\n",
        "line(50, 50, 80, 80)"
      ],
      "execution_count": null,
      "outputs": [
        {
          "output_type": "execute_result",
          "data": {
            "text/html": [
              "\n",
              "  <script src=\"https://cdnjs.cloudflare.com/ajax/libs/p5.js/0.6.0/p5.js\"></script>\n",
              "  <script>\n",
              "  new p5();\n",
              "  createCanvas(200, 200)\n",
              "ellipse(50, 50, 80, 80)  // circle\n",
              "rect(50, 50, 80, 80)\n",
              "line(50, 50, 80, 80)  // allow python-style comment\n",
              "  </script>\n",
              "  "
            ],
            "text/plain": [
              "<IPython.core.display.HTML object>"
            ]
          },
          "metadata": {
            "tags": []
          },
          "execution_count": 13
        }
      ]
    },
    {
      "metadata": {
        "id": "85HqwBVPEerZ"
      },
      "cell_type": "code",
      "source": [],
      "execution_count": null,
      "outputs": []
    }
  ]
}