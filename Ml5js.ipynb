{
  "nbformat": 4,
  "nbformat_minor": 0,
  "metadata": {
    "colab": {
      "provenance": [],
      "authorship_tag": "ABX9TyN/1gfcUCCJb81lUtA1zn6Q",
      "include_colab_link": true
    },
    "kernelspec": {
      "name": "python3",
      "display_name": "Python 3"
    },
    "language_info": {
      "name": "python"
    }
  },
  "cells": [
    {
      "cell_type": "markdown",
      "metadata": {
        "id": "view-in-github",
        "colab_type": "text"
      },
      "source": [
        "<a href=\"https://colab.research.google.com/github/thePegasusai/CloudPhone/blob/main/Ml5js.ipynb\" target=\"_parent\"><img src=\"https://colab.research.google.com/assets/colab-badge.svg\" alt=\"Open In Colab\"/></a>"
      ]
    },
    {
      "cell_type": "code",
      "execution_count": 1,
      "metadata": {
        "colab": {
          "base_uri": "https://localhost:8080/"
        },
        "id": "Yj12woYPdLrQ",
        "outputId": "7061bc16-bc11-48b3-ff2b-1ab3cbde3656"
      },
      "outputs": [
        {
          "output_type": "stream",
          "name": "stdout",
          "text": [
            "Looking in indexes: https://pypi.org/simple, https://us-python.pkg.dev/colab-wheels/public/simple/\n",
            "Collecting ml5\n",
            "  Downloading ml5-0.0.0.tar.gz (3.8 kB)\n",
            "Requirement already satisfied: requests!=2.9.0 in /usr/local/lib/python3.8/dist-packages (from ml5) (2.23.0)\n",
            "Requirement already satisfied: crcmod>=1.7 in /usr/local/lib/python3.8/dist-packages (from ml5) (1.7)\n",
            "Requirement already satisfied: chardet<4,>=3.0.2 in /usr/local/lib/python3.8/dist-packages (from requests!=2.9.0->ml5) (3.0.4)\n",
            "Requirement already satisfied: urllib3!=1.25.0,!=1.25.1,<1.26,>=1.21.1 in /usr/local/lib/python3.8/dist-packages (from requests!=2.9.0->ml5) (1.24.3)\n",
            "Requirement already satisfied: certifi>=2017.4.17 in /usr/local/lib/python3.8/dist-packages (from requests!=2.9.0->ml5) (2022.12.7)\n",
            "Requirement already satisfied: idna<3,>=2.5 in /usr/local/lib/python3.8/dist-packages (from requests!=2.9.0->ml5) (2.10)\n",
            "Building wheels for collected packages: ml5\n",
            "  Building wheel for ml5 (setup.py) ... \u001b[?25l\u001b[?25hdone\n",
            "  Created wheel for ml5: filename=ml5-0.0.0-py3-none-any.whl size=3476 sha256=484359a342ff7d50f8579f7fedb98632da5815bbe8a0b20812a11a632b8ef1cc\n",
            "  Stored in directory: /root/.cache/pip/wheels/42/92/eb/d66cf3dff9fa6a306977cc903b84fc7fed022e7cca3b84caba\n",
            "Successfully built ml5\n",
            "Installing collected packages: ml5\n",
            "Successfully installed ml5-0.0.0\n"
          ]
        }
      ],
      "source": [
        "!pip install ml5"
      ]
    },
    {
      "cell_type": "code",
      "source": [
        "// Step 1: Create an image classifier with MobileNet\n",
        "const classifier = ml5.imageClassifier(\"MobileNet\", onModelReady);\n",
        "\n",
        "// Step 2: select an image\n",
        "const img = document.querySelector(\"#myImage\");\n",
        "\n",
        "// Step 3: Make a prediction\n",
        "let prediction = classifier.predict(img, gotResults);\n",
        "\n",
        "// Step 4: Do something with the results!\n",
        "function gotResults(err, results) {\n",
        "  console.log(results);\n",
        "  // all the amazing things you'll add\n",
        "}"
      ],
      "metadata": {
        "colab": {
          "base_uri": "https://localhost:8080/",
          "height": 208
        },
        "id": "Smc2KbOKeEHq",
        "outputId": "7edbd9e5-ce03-4551-fc1d-91a48fceada8"
      },
      "execution_count": 2,
      "outputs": [
        {
          "output_type": "error",
          "ename": "SyntaxError",
          "evalue": "ignored",
          "traceback": [
            "\u001b[0;36m  File \u001b[0;32m\"<ipython-input-2-1135182e6447>\"\u001b[0;36m, line \u001b[0;32m1\u001b[0m\n\u001b[0;31m    // Step 1: Create an image classifier with MobileNet\u001b[0m\n\u001b[0m    ^\u001b[0m\n\u001b[0;31mSyntaxError\u001b[0m\u001b[0;31m:\u001b[0m invalid syntax\n"
          ]
        }
      ]
    },
    {
      "cell_type": "code",
      "source": [],
      "metadata": {
        "id": "92INOSzTePH9"
      },
      "execution_count": null,
      "outputs": []
    },
    {
      "cell_type": "code",
      "source": [],
      "metadata": {
        "id": "KbtZTd7rePdi"
      },
      "execution_count": null,
      "outputs": []
    },
    {
      "cell_type": "code",
      "source": [],
      "metadata": {
        "id": "fOzGPlGIeNA7"
      },
      "execution_count": null,
      "outputs": []
    }
  ]
}