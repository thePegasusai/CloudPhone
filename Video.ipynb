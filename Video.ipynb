{
  "nbformat": 4,
  "nbformat_minor": 0,
  "metadata": {
    "colab": {
      "provenance": [],
      "authorship_tag": "ABX9TyNyELxVWsoSVd08nFeov7+f",
      "include_colab_link": true
    },
    "kernelspec": {
      "name": "python3",
      "display_name": "Python 3"
    },
    "language_info": {
      "name": "python"
    }
  },
  "cells": [
    {
      "cell_type": "markdown",
      "metadata": {
        "id": "view-in-github",
        "colab_type": "text"
      },
      "source": [
        "<a href=\"https://colab.research.google.com/github/thePegasusai/CloudPhone/blob/main/Video.ipynb\" target=\"_parent\"><img src=\"https://colab.research.google.com/assets/colab-badge.svg\" alt=\"Open In Colab\"/></a>"
      ]
    },
    {
      "cell_type": "code",
      "execution_count": null,
      "metadata": {
        "colab": {
          "base_uri": "https://localhost:8080/",
          "height": 153
        },
        "id": "NoF7BY0QnwPn",
        "outputId": "e4587fa0-4d25-4c13-e034-a491e73e29ee"
      },
      "outputs": [
        {
          "output_type": "error",
          "ename": "SyntaxError",
          "evalue": "ignored",
          "traceback": [
            "\u001b[0;36m  File \u001b[0;32m\"<ipython-input-1-176b860a2a9e>\"\u001b[0;36m, line \u001b[0;32m1\u001b[0m\n\u001b[0;31m    and use it to encode video files.\u001b[0m\n\u001b[0m    ^\u001b[0m\n\u001b[0;31mSyntaxError\u001b[0m\u001b[0;31m:\u001b[0m invalid syntax\n"
          ]
        }
      ],
      "source": [
        "and use it to encode video files.\n",
        "    \"\"\"\n",
        "\n",
        "    def __init__(self, *args, **kwargs):\n",
        "        super().__init__(*args, **kwargs)\n",
        "        self.logger = logging.getLogger(\"VideoEncoder\")\n",
        "\n",
        "    @staticmethod\n",
        "    def get_name():\n",
        "        return \"VideoEncoder\"\n",
        "\n",
        "    @staticmethod\n",
        "    def get_display_name():\n",
        "        return \"Video Encoder\"\n",
        "\n",
        "    @staticmethod\n",
        "    def get_description():\n",
        "        return \"Encode a video file in the cloud.\"\n",
        "\n",
        "    @staticmethod\n",
        "    def get_parameter_set():  # TODO: Add parameters for encoding options (e.g.: resolution). See https://\n"
      ]
    },
    {
      "cell_type": "code",
      "source": [
        "from whoosh import index, writing\n",
        "from whoosh.fields import Schema, TEXT\n",
        "\n",
        "# Create a Schema for the index\n",
        "schema = Schema(title=TEXT(stored=True), path=ID(stored=True), content=TEXT)\n",
        "\n",
        "# Create the index\n",
        "ix = index.create_in(\"indexdir\", schema)\n",
        "\n",
        "# Add clips to the index\n",
        "writer = ix.writer()\n",
        "writer.add_document(title=u\"Clip 1\", path=u\"/a\", content=u\"This is a clip from a video.\")\n",
        "writer.add_document(title=u\"Clip 2\", path=u\"/b\", content=u\"This is another clip from a video.\")\n",
        "\n",
        "# Search the index for matches\n",
        "with ix.searcher() as searcher:\n",
        "    query = QueryParser(\"content\", ix.schema).parse(\"video clip\")\n",
        "    result"
      ],
      "metadata": {
        "colab": {
          "base_uri": "https://localhost:8080/",
          "height": 621
        },
        "id": "GLsOa4Lwg4UF",
        "outputId": "8ec10ec8-df91-45db-ff78-ef230b3acffb"
      },
      "execution_count": null,
      "outputs": [
        {
          "output_type": "error",
          "ename": "ModuleNotFoundError",
          "evalue": "ignored",
          "traceback": [
            "\u001b[0;31m---------------------------------------------------------------------------\u001b[0m",
            "\u001b[0;31mModuleNotFoundError\u001b[0m                       Traceback (most recent call last)",
            "\u001b[0;32m<ipython-input-1-aa415602c927>\u001b[0m in \u001b[0;36m<module>\u001b[0;34m\u001b[0m\n\u001b[0;32m----> 1\u001b[0;31m \u001b[0;32mfrom\u001b[0m \u001b[0mwhoosh\u001b[0m \u001b[0;32mimport\u001b[0m \u001b[0mindex\u001b[0m\u001b[0;34m,\u001b[0m \u001b[0mwriting\u001b[0m\u001b[0;34m\u001b[0m\u001b[0;34m\u001b[0m\u001b[0m\n\u001b[0m\u001b[1;32m      2\u001b[0m \u001b[0;32mfrom\u001b[0m \u001b[0mwhoosh\u001b[0m\u001b[0;34m.\u001b[0m\u001b[0mfields\u001b[0m \u001b[0;32mimport\u001b[0m \u001b[0mSchema\u001b[0m\u001b[0;34m,\u001b[0m \u001b[0mTEXT\u001b[0m\u001b[0;34m\u001b[0m\u001b[0;34m\u001b[0m\u001b[0m\n\u001b[1;32m      3\u001b[0m \u001b[0;34m\u001b[0m\u001b[0m\n\u001b[1;32m      4\u001b[0m \u001b[0;31m# Create a Schema for the index\u001b[0m\u001b[0;34m\u001b[0m\u001b[0;34m\u001b[0m\u001b[0;34m\u001b[0m\u001b[0m\n\u001b[1;32m      5\u001b[0m \u001b[0mschema\u001b[0m \u001b[0;34m=\u001b[0m \u001b[0mSchema\u001b[0m\u001b[0;34m(\u001b[0m\u001b[0mtitle\u001b[0m\u001b[0;34m=\u001b[0m\u001b[0mTEXT\u001b[0m\u001b[0;34m(\u001b[0m\u001b[0mstored\u001b[0m\u001b[0;34m=\u001b[0m\u001b[0;32mTrue\u001b[0m\u001b[0;34m)\u001b[0m\u001b[0;34m,\u001b[0m \u001b[0mpath\u001b[0m\u001b[0;34m=\u001b[0m\u001b[0mID\u001b[0m\u001b[0;34m(\u001b[0m\u001b[0mstored\u001b[0m\u001b[0;34m=\u001b[0m\u001b[0;32mTrue\u001b[0m\u001b[0;34m)\u001b[0m\u001b[0;34m,\u001b[0m \u001b[0mcontent\u001b[0m\u001b[0;34m=\u001b[0m\u001b[0mTEXT\u001b[0m\u001b[0;34m)\u001b[0m\u001b[0;34m\u001b[0m\u001b[0;34m\u001b[0m\u001b[0m\n",
            "\u001b[0;31mModuleNotFoundError\u001b[0m: No module named 'whoosh'",
            "",
            "\u001b[0;31m---------------------------------------------------------------------------\u001b[0;32m\nNOTE: If your import is failing due to a missing package, you can\nmanually install dependencies using either !pip or !apt.\n\nTo view examples of installing some common dependencies, click the\n\"Open Examples\" button below.\n\u001b[0;31m---------------------------------------------------------------------------\u001b[0m\n"
          ],
          "errorDetails": {
            "actions": [
              {
                "action": "open_url",
                "actionText": "Open Examples",
                "url": "/notebooks/snippets/importing_libraries.ipynb"
              }
            ]
          }
        }
      ]
    },
    {
      "cell_type": "code",
      "source": [
        "<video id=\"video\" controls>\n",
        "  <source src=\"input.mp4\" type=\"video/mp4\" />\n",
        "</video>\n",
        "\n",
        "<script>\n",
        "  // Get the video element\n",
        "  const video = document.getElementById(\"video\");\n",
        "\n",
        "  // Create a MediaSource object\n",
        "  const mediaSource = new MediaSource();\n",
        "\n",
        "  // Set the source of the video element to the MediaSource\n",
        "  video.src = URL.createObjectURL(mediaSource);\n",
        "\n",
        "  // When the video is ready to be used\n",
        "  video.oncanplay = () => {\n",
        "    // Get the video frames as an array\n",
        "    const frames = Array.from(video.buffered);\n",
        "\n",
        "    // Do something with the frames\n",
        "  };\n",
        "</script>\n"
      ],
      "metadata": {
        "id": "9izVc6WJhj8v"
      },
      "execution_count": null,
      "outputs": []
    },
    {
      "cell_type": "code",
      "source": [
        "that decodes the video stream from a file and plays it in an HTML5 video tag.\n",
        "//The input is a path to a mp4 file. The output should be the same video that you see when playing it with your browser.\n",
        "//Hint: use ffmpeg -i input_file.mp4 -f image2pipe -pix_fmt yuv420p -vcodec rawvideo pipe:1 | xvimagesink\n",
        "\n",
        "\n",
        "var fs = require('fs');\n",
        "var spawn = require(\"child_process\").spawn;\n",
        "\n",
        "\n",
        "function playVideo(path) {\n",
        "\n",
        "    var process = spawn('ffmpeg', ['-i', path, '-f', 'image2pipe', '-pix_fmt', 'yuv420p', '-vcodec', 'rawvideo','pipe:1']);\n",
        "\n",
        "    var data='';\n",
        "\n",
        "    process.stdout.on('data', function (chunk) { data += chunk; });\n",
        "\n",
        "    process.stdout.on('end' , function() { console.log(data);});  //prints out all of the data at once as opposed to on each chunk event!\n",
        "}\n"
      ],
      "metadata": {
        "id": "Fh4noRRdoWyB"
      },
      "execution_count": null,
      "outputs": []
    },
    {
      "cell_type": "code",
      "source": [
        "# Install the required library\n",
        "import boto3\n",
        "\n",
        "# Upload the video to AWS\n",
        "s3 = boto3.client('s3')\n",
        "s3.upload_file('input.mp4', 'my-bucket', 'output.mp4')\n",
        "\n",
        "___"
      ],
      "metadata": {
        "id": "WM-NI6nLi4k4",
        "outputId": "f00f81e2-400a-44f8-c673-55cde98cbda9",
        "colab": {
          "base_uri": "https://localhost:8080/",
          "height": 549
        }
      },
      "execution_count": null,
      "outputs": [
        {
          "output_type": "error",
          "ename": "ModuleNotFoundError",
          "evalue": "ignored",
          "traceback": [
            "\u001b[0;31m---------------------------------------------------------------------------\u001b[0m",
            "\u001b[0;31mModuleNotFoundError\u001b[0m                       Traceback (most recent call last)",
            "\u001b[0;32m<ipython-input-2-696d50f6e910>\u001b[0m in \u001b[0;36m<module>\u001b[0;34m\u001b[0m\n\u001b[1;32m      1\u001b[0m \u001b[0;31m# Install the required library\u001b[0m\u001b[0;34m\u001b[0m\u001b[0;34m\u001b[0m\u001b[0;34m\u001b[0m\u001b[0m\n\u001b[0;32m----> 2\u001b[0;31m \u001b[0;32mimport\u001b[0m \u001b[0mboto3\u001b[0m\u001b[0;34m\u001b[0m\u001b[0;34m\u001b[0m\u001b[0m\n\u001b[0m\u001b[1;32m      3\u001b[0m \u001b[0;34m\u001b[0m\u001b[0m\n\u001b[1;32m      4\u001b[0m \u001b[0;31m# Upload the video to AWS\u001b[0m\u001b[0;34m\u001b[0m\u001b[0;34m\u001b[0m\u001b[0;34m\u001b[0m\u001b[0m\n\u001b[1;32m      5\u001b[0m \u001b[0ms3\u001b[0m \u001b[0;34m=\u001b[0m \u001b[0mboto3\u001b[0m\u001b[0;34m.\u001b[0m\u001b[0mclient\u001b[0m\u001b[0;34m(\u001b[0m\u001b[0;34m's3'\u001b[0m\u001b[0;34m)\u001b[0m\u001b[0;34m\u001b[0m\u001b[0;34m\u001b[0m\u001b[0m\n",
            "\u001b[0;31mModuleNotFoundError\u001b[0m: No module named 'boto3'",
            "",
            "\u001b[0;31m---------------------------------------------------------------------------\u001b[0;32m\nNOTE: If your import is failing due to a missing package, you can\nmanually install dependencies using either !pip or !apt.\n\nTo view examples of installing some common dependencies, click the\n\"Open Examples\" button below.\n\u001b[0;31m---------------------------------------------------------------------------\u001b[0m\n"
          ],
          "errorDetails": {
            "actions": [
              {
                "action": "open_url",
                "actionText": "Open Examples",
                "url": "/notebooks/snippets/importing_libraries.ipynb"
              }
            ]
          }
        }
      ]
    },
    {
      "cell_type": "code",
      "source": [
        "\n",
        "\n"
      ],
      "metadata": {
        "id": "1627KC2Fi7tu"
      },
      "execution_count": null,
      "outputs": []
    }
  ]
}