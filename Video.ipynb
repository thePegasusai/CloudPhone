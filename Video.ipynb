{
  "nbformat": 4,
  "nbformat_minor": 0,
  "metadata": {
    "colab": {
      "provenance": [],
      "authorship_tag": "ABX9TyNfGH/LwE39JboMNf0le31+",
      "include_colab_link": true
    },
    "kernelspec": {
      "name": "python3",
      "display_name": "Python 3"
    },
    "language_info": {
      "name": "python"
    }
  },
  "cells": [
    {
      "cell_type": "markdown",
      "metadata": {
        "id": "view-in-github",
        "colab_type": "text"
      },
      "source": [
        "<a href=\"https://colab.research.google.com/github/thePegasusai/CloudPhone/blob/main/Video.ipynb\" target=\"_parent\"><img src=\"https://colab.research.google.com/assets/colab-badge.svg\" alt=\"Open In Colab\"/></a>"
      ]
    },
    {
      "cell_type": "code",
      "execution_count": 1,
      "metadata": {
        "colab": {
          "base_uri": "https://localhost:8080/",
          "height": 179
        },
        "id": "NoF7BY0QnwPn",
        "outputId": "e4587fa0-4d25-4c13-e034-a491e73e29ee"
      },
      "outputs": [
        {
          "output_type": "error",
          "ename": "SyntaxError",
          "evalue": "ignored",
          "traceback": [
            "\u001b[0;36m  File \u001b[0;32m\"<ipython-input-1-176b860a2a9e>\"\u001b[0;36m, line \u001b[0;32m1\u001b[0m\n\u001b[0;31m    and use it to encode video files.\u001b[0m\n\u001b[0m    ^\u001b[0m\n\u001b[0;31mSyntaxError\u001b[0m\u001b[0;31m:\u001b[0m invalid syntax\n"
          ]
        }
      ],
      "source": [
        "and use it to encode video files.\n",
        "    \"\"\"\n",
        "\n",
        "    def __init__(self, *args, **kwargs):\n",
        "        super().__init__(*args, **kwargs)\n",
        "        self.logger = logging.getLogger(\"VideoEncoder\")\n",
        "\n",
        "    @staticmethod\n",
        "    def get_name():\n",
        "        return \"VideoEncoder\"\n",
        "\n",
        "    @staticmethod\n",
        "    def get_display_name():\n",
        "        return \"Video Encoder\"\n",
        "\n",
        "    @staticmethod\n",
        "    def get_description():\n",
        "        return \"Encode a video file in the cloud.\"\n",
        "\n",
        "    @staticmethod\n",
        "    def get_parameter_set():  # TODO: Add parameters for encoding options (e.g.: resolution). See https://\n"
      ]
    },
    {
      "cell_type": "code",
      "source": [
        "that decodes the video stream from a file and plays it in an HTML5 video tag.\n",
        "//The input is a path to a mp4 file. The output should be the same video that you see when playing it with your browser.\n",
        "//Hint: use ffmpeg -i input_file.mp4 -f image2pipe -pix_fmt yuv420p -vcodec rawvideo pipe:1 | xvimagesink\n",
        "\n",
        "\n",
        "var fs = require('fs');\n",
        "var spawn = require(\"child_process\").spawn;\n",
        "\n",
        "\n",
        "function playVideo(path) {\n",
        "\n",
        "    var process = spawn('ffmpeg', ['-i', path, '-f', 'image2pipe', '-pix_fmt', 'yuv420p', '-vcodec', 'rawvideo','pipe:1']);\n",
        "\n",
        "    var data='';\n",
        "\n",
        "    process.stdout.on('data', function (chunk) { data += chunk; });\n",
        "\n",
        "    process.stdout.on('end' , function() { console.log(data);});  //prints out all of the data at once as opposed to on each chunk event!\n",
        "}\n"
      ],
      "metadata": {
        "id": "Fh4noRRdoWyB"
      },
      "execution_count": null,
      "outputs": []
    }
  ]
}