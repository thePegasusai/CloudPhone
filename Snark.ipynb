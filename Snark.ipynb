{
  "nbformat": 4,
  "nbformat_minor": 0,
  "metadata": {
    "colab": {
      "provenance": [],
      "authorship_tag": "ABX9TyM2RfuIoHGL4yrMdmHhYo2S",
      "include_colab_link": true
    },
    "kernelspec": {
      "name": "python3",
      "display_name": "Python 3"
    },
    "language_info": {
      "name": "python"
    }
  },
  "cells": [
    {
      "cell_type": "markdown",
      "metadata": {
        "id": "view-in-github",
        "colab_type": "text"
      },
      "source": [
        "<a href=\"https://colab.research.google.com/github/thePegasusai/CloudPhone/blob/main/Snark.ipynb\" target=\"_parent\"><img src=\"https://colab.research.google.com/assets/colab-badge.svg\" alt=\"Open In Colab\"/></a>"
      ]
    },
    {
      "cell_type": "code",
      "execution_count": 4,
      "metadata": {
        "colab": {
          "base_uri": "https://localhost:8080/"
        },
        "id": "rW4zlx1QXMD0",
        "outputId": "09224af4-0631-4772-e866-7dd01d3286c7"
      },
      "outputs": [
        {
          "output_type": "stream",
          "name": "stdout",
          "text": [
            "Looking in indexes: https://pypi.org/simple, https://us-python.pkg.dev/colab-wheels/public/simple/\n",
            "Collecting snark\n",
            "  Downloading snark-0.5.2.2-py3-none-any.whl (23 kB)\n",
            "Collecting outdated>=0.2.0\n",
            "  Downloading outdated-0.2.2-py2.py3-none-any.whl (7.5 kB)\n",
            "Requirement already satisfied: pytz>=2016.10 in /usr/local/lib/python3.8/dist-packages (from snark) (2022.6)\n",
            "Requirement already satisfied: pyyaml in /usr/local/lib/python3.8/dist-packages (from snark) (6.0)\n",
            "Collecting requests-toolbelt<1,>=0.7.1\n",
            "  Downloading requests_toolbelt-0.10.1-py2.py3-none-any.whl (54 kB)\n",
            "\u001b[K     |████████████████████████████████| 54 kB 2.7 MB/s \n",
            "\u001b[?25hCollecting click<7,>=6.7\n",
            "  Downloading click-6.7-py2.py3-none-any.whl (71 kB)\n",
            "\u001b[K     |████████████████████████████████| 71 kB 7.7 MB/s \n",
            "\u001b[?25hCollecting awscli\n",
            "  Downloading awscli-1.27.41-py3-none-any.whl (4.0 MB)\n",
            "\u001b[K     |████████████████████████████████| 4.0 MB 31.3 MB/s \n",
            "\u001b[?25hCollecting marshmallow<3.0.0b0,>=2.11.1\n",
            "  Downloading marshmallow-2.21.0-py2.py3-none-any.whl (50 kB)\n",
            "\u001b[K     |████████████████████████████████| 50 kB 7.2 MB/s \n",
            "\u001b[?25hRequirement already satisfied: tabulate<1,>=0.7.7 in /usr/local/lib/python3.8/dist-packages (from snark) (0.8.10)\n",
            "Collecting clint<1,>=0.5.1\n",
            "  Downloading clint-0.5.1.tar.gz (29 kB)\n",
            "Requirement already satisfied: requests<3,>=2.12.4 in /usr/local/lib/python3.8/dist-packages (from snark) (2.23.0)\n",
            "Collecting args\n",
            "  Downloading args-0.1.0.tar.gz (3.0 kB)\n",
            "Collecting littleutils\n",
            "  Downloading littleutils-0.2.2.tar.gz (6.6 kB)\n",
            "Requirement already satisfied: setuptools>=44 in /usr/local/lib/python3.8/dist-packages (from outdated>=0.2.0->snark) (57.4.0)\n",
            "Requirement already satisfied: chardet<4,>=3.0.2 in /usr/local/lib/python3.8/dist-packages (from requests<3,>=2.12.4->snark) (3.0.4)\n",
            "Requirement already satisfied: certifi>=2017.4.17 in /usr/local/lib/python3.8/dist-packages (from requests<3,>=2.12.4->snark) (2022.12.7)\n",
            "Requirement already satisfied: idna<3,>=2.5 in /usr/local/lib/python3.8/dist-packages (from requests<3,>=2.12.4->snark) (2.10)\n",
            "Requirement already satisfied: urllib3!=1.25.0,!=1.25.1,<1.26,>=1.21.1 in /usr/local/lib/python3.8/dist-packages (from requests<3,>=2.12.4->snark) (1.24.3)\n",
            "Collecting rsa<4.8,>=3.1.2\n",
            "  Downloading rsa-4.7.2-py3-none-any.whl (34 kB)\n",
            "Collecting botocore==1.29.41\n",
            "  Downloading botocore-1.29.41-py3-none-any.whl (10.3 MB)\n",
            "\u001b[K     |████████████████████████████████| 10.3 MB 39.6 MB/s \n",
            "\u001b[?25hCollecting s3transfer<0.7.0,>=0.6.0\n",
            "  Downloading s3transfer-0.6.0-py3-none-any.whl (79 kB)\n",
            "\u001b[K     |████████████████████████████████| 79 kB 8.5 MB/s \n",
            "\u001b[?25hCollecting pyyaml\n",
            "  Downloading PyYAML-5.4.1-cp38-cp38-manylinux1_x86_64.whl (662 kB)\n",
            "\u001b[K     |████████████████████████████████| 662 kB 19.3 MB/s \n",
            "\u001b[?25hCollecting colorama<0.4.5,>=0.2.5\n",
            "  Downloading colorama-0.4.4-py2.py3-none-any.whl (16 kB)\n",
            "Collecting docutils<0.17,>=0.10\n",
            "  Downloading docutils-0.16-py2.py3-none-any.whl (548 kB)\n",
            "\u001b[K     |████████████████████████████████| 548 kB 59.0 MB/s \n",
            "\u001b[?25hCollecting jmespath<2.0.0,>=0.7.1\n",
            "  Downloading jmespath-1.0.1-py3-none-any.whl (20 kB)\n",
            "Requirement already satisfied: python-dateutil<3.0.0,>=2.1 in /usr/local/lib/python3.8/dist-packages (from botocore==1.29.41->awscli->snark) (2.8.2)\n",
            "Collecting urllib3!=1.25.0,!=1.25.1,<1.26,>=1.21.1\n",
            "  Downloading urllib3-1.25.11-py2.py3-none-any.whl (127 kB)\n",
            "\u001b[K     |████████████████████████████████| 127 kB 46.6 MB/s \n",
            "\u001b[?25hRequirement already satisfied: six>=1.5 in /usr/local/lib/python3.8/dist-packages (from python-dateutil<3.0.0,>=2.1->botocore==1.29.41->awscli->snark) (1.15.0)\n",
            "Requirement already satisfied: pyasn1>=0.1.3 in /usr/local/lib/python3.8/dist-packages (from rsa<4.8,>=3.1.2->awscli->snark) (0.4.8)\n",
            "Building wheels for collected packages: clint, args, littleutils\n",
            "  Building wheel for clint (setup.py) ... \u001b[?25l\u001b[?25hdone\n",
            "  Created wheel for clint: filename=clint-0.5.1-py3-none-any.whl size=34473 sha256=bb3d9b2f9c44e7078cae0d6d5b912e58cf4726b68ac21994ce7717f5cfe538ab\n",
            "  Stored in directory: /root/.cache/pip/wheels/84/c4/6d/3235262e25e25ce8f080be07d9181853c92e0be64bb1a5d219\n",
            "  Building wheel for args (setup.py) ... \u001b[?25l\u001b[?25hdone\n",
            "  Created wheel for args: filename=args-0.1.0-py3-none-any.whl size=3318 sha256=24d8cfdda86cff4f8ca711cecd570d308fdf4317ea66384276d5557be019b027\n",
            "  Stored in directory: /root/.cache/pip/wheels/08/5b/6a/d4c08f9d355023389016ed57db4099cf7091627fd5de717da6\n",
            "  Building wheel for littleutils (setup.py) ... \u001b[?25l\u001b[?25hdone\n",
            "  Created wheel for littleutils: filename=littleutils-0.2.2-py3-none-any.whl size=7047 sha256=c139117e4761994f12d44957aa8787d556b08598b84aa999f3443bf54ecdd606\n",
            "  Stored in directory: /root/.cache/pip/wheels/6a/33/c4/0ef84d7f5568c2823e3d63a6e08988852fb9e4bc822034870a\n",
            "Successfully built clint args littleutils\n",
            "Installing collected packages: urllib3, jmespath, botocore, s3transfer, rsa, pyyaml, littleutils, docutils, colorama, args, requests-toolbelt, outdated, marshmallow, clint, click, awscli, snark\n",
            "  Attempting uninstall: urllib3\n",
            "    Found existing installation: urllib3 1.24.3\n",
            "    Uninstalling urllib3-1.24.3:\n",
            "      Successfully uninstalled urllib3-1.24.3\n",
            "  Attempting uninstall: rsa\n",
            "    Found existing installation: rsa 4.9\n",
            "    Uninstalling rsa-4.9:\n",
            "      Successfully uninstalled rsa-4.9\n",
            "  Attempting uninstall: pyyaml\n",
            "    Found existing installation: PyYAML 6.0\n",
            "    Uninstalling PyYAML-6.0:\n",
            "      Successfully uninstalled PyYAML-6.0\n",
            "  Attempting uninstall: docutils\n",
            "    Found existing installation: docutils 0.17.1\n",
            "    Uninstalling docutils-0.17.1:\n",
            "      Successfully uninstalled docutils-0.17.1\n",
            "  Attempting uninstall: marshmallow\n",
            "    Found existing installation: marshmallow 3.19.0\n",
            "    Uninstalling marshmallow-3.19.0:\n",
            "      Successfully uninstalled marshmallow-3.19.0\n",
            "  Attempting uninstall: click\n",
            "    Found existing installation: click 7.1.2\n",
            "    Uninstalling click-7.1.2:\n",
            "      Successfully uninstalled click-7.1.2\n",
            "\u001b[31mERROR: pip's dependency resolver does not currently take into account all the packages that are installed. This behaviour is the source of the following dependency conflicts.\n",
            "webargs 8.2.0 requires marshmallow>=3.0.0, but you have marshmallow 2.21.0 which is incompatible.\n",
            "typer 0.7.0 requires click<9.0.0,>=7.1.1, but you have click 6.7 which is incompatible.\n",
            "pip-tools 6.2.0 requires click>=7, but you have click 6.7 which is incompatible.\n",
            "httpstan 4.6.1 requires marshmallow<4.0,>=3.10, but you have marshmallow 2.21.0 which is incompatible.\u001b[0m\n",
            "Successfully installed args-0.1.0 awscli-1.27.41 botocore-1.29.41 click-6.7 clint-0.5.1 colorama-0.4.4 docutils-0.16 jmespath-1.0.1 littleutils-0.2.2 marshmallow-2.21.0 outdated-0.2.2 pyyaml-5.4.1 requests-toolbelt-0.10.1 rsa-4.7.2 s3transfer-0.6.0 snark-0.5.2.2 urllib3-1.25.11\n"
          ]
        }
      ],
      "source": [
        "pip install snark\n"
      ]
    },
    {
      "cell_type": "code",
      "source": [],
      "metadata": {
        "id": "W3sUkZh2Xtxn"
      },
      "execution_count": null,
      "outputs": []
    }
  ]
}