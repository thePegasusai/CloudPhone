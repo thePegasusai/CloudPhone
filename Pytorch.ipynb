{
  "nbformat": 4,
  "nbformat_minor": 0,
  "metadata": {
    "colab": {
      "provenance": [],
      "authorship_tag": "ABX9TyPqPi8xW0WqSGBbvu3fRHVM",
      "include_colab_link": true
    },
    "kernelspec": {
      "name": "python3",
      "display_name": "Python 3"
    },
    "language_info": {
      "name": "python"
    }
  },
  "cells": [
    {
      "cell_type": "markdown",
      "metadata": {
        "id": "view-in-github",
        "colab_type": "text"
      },
      "source": [
        "<a href=\"https://colab.research.google.com/github/thePegasusai/CloudPhone/blob/main/Pytorch.ipynb\" target=\"_parent\"><img src=\"https://colab.research.google.com/assets/colab-badge.svg\" alt=\"Open In Colab\"/></a>"
      ]
    },
    {
      "cell_type": "code",
      "execution_count": 3,
      "metadata": {
        "id": "BylJhMbZjQai"
      },
      "outputs": [],
      "source": [
        "# The torch.nn module in PyTorch provides a set of functions,\n",
        "# classes, and modules for creating neural networks. \n",
        "# It is used to define the network architecture and layers, and also provides functions for computing the gradients and performing backpropagation.\n",
        "# Here is an example of how to use the torch.nn module to define a neural network:\n",
        "\n",
        "import torch.nn as nn\n",
        "\n",
        "# Define the network architecture\n",
        "class MyNet(nn.Module):\n",
        "    def __init__(self):\n",
        "        super(MyNet, self).__init__()\n",
        "        self.fc1 = nn.Linear(in_features=64, out_features=2)\n",
        "        self.fc2 = nn.Linear(in_features=2, out_features=32)\n",
        "        self.fc3 = nn.Linear(in_features=32, out_features=1)\n",
        "\n",
        "    def forward(self, x):\n",
        "        x = self.fc1(x)\n",
        "        x = self.fc2(x)\n",
        "        x = self.fc3(x)\n",
        "        return x"
      ]
    },
    {
      "cell_type": "code",
      "source": [],
      "metadata": {
        "id": "vW4y_u6gjqr-"
      },
      "execution_count": null,
      "outputs": []
    }
  ]
}