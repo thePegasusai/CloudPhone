{
  "nbformat": 4,
  "nbformat_minor": 0,
  "metadata": {
    "colab": {
      "provenance": [],
      "authorship_tag": "ABX9TyNviZr3lCLioGiz4jHw4X60",
      "include_colab_link": true
    },
    "kernelspec": {
      "name": "python3",
      "display_name": "Python 3"
    },
    "language_info": {
      "name": "python"
    }
  },
  "cells": [
    {
      "cell_type": "markdown",
      "metadata": {
        "id": "view-in-github",
        "colab_type": "text"
      },
      "source": [
        "<a href=\"https://colab.research.google.com/github/thePegasusai/CloudPhone/blob/main/Pytorch.ipynb\" target=\"_parent\"><img src=\"https://colab.research.google.com/assets/colab-badge.svg\" alt=\"Open In Colab\"/></a>"
      ]
    },
    {
      "cell_type": "code",
      "execution_count": 3,
      "metadata": {
        "id": "BylJhMbZjQai"
      },
      "outputs": [],
      "source": [
        "# The torch.nn module in PyTorch provides a set of functions,\n",
        "# classes, and modules for creating neural networks. \n",
        "# It is used to define the network architecture and layers, and also provides functions for computing the gradients and performing backpropagation.\n",
        "# Here is an example of how to use the torch.nn module to define a neural network:\n",
        "\n",
        "import torch.nn as nn\n",
        "\n",
        "# Define the network architecture\n",
        "class MyNet(nn.Module):\n",
        "    def __init__(self):\n",
        "        super(MyNet, self).__init__()\n",
        "        self.fc1 = nn.Linear(in_features=64, out_features=2)\n",
        "        self.fc2 = nn.Linear(in_features=2, out_features=32)\n",
        "        self.fc3 = nn.Linear(in_features=32, out_features=1)\n",
        "\n",
        "    def forward(self, x):\n",
        "        x = self.fc1(x)\n",
        "        x = self.fc2(x)\n",
        "        x = self.fc3(x)\n",
        "        return x\n",
        "        "
      ]
    },
    {
      "cell_type": "code",
      "source": [
        "# The torch.optim module in PyTorch provides functions for optimizing the parameters of a neural network.\n",
        "# It contains different optimization algorithms such as SGD, Adam, and Adagrad, which can be used to train the network.\n",
        "# Here is an example of how to use the torch.optim module to train a neural network:\n",
        "import torch\n",
        "import torch.nn as nn\n",
        "import torch.optim as optim\n",
        "\n",
        "# Define the network architecture\n",
        "class MyNet(nn.Module):\n",
        "    def __init__(self):\n",
        "        super(MyNet, self).__init__()\n",
        "        self.fc1 = nn.Linear(in_features=64, out_features=2)\n",
        "        self.fc2 = nn.Linear(in_features=2, out_features=32)\n",
        "        self.fc3 = nn.Linear(in_features=32, out_features=1)\n",
        "\n",
        "    def forward(self, x):\n",
        "        x = self.fc1(x)\n",
        "        x = self.fc2(x)\n",
        "        x = self.fc3(x)\n",
        "        return x"
      ],
      "metadata": {
        "id": "Cq23GwaJkwGE"
      },
      "execution_count": 6,
      "outputs": []
    },
    {
      "cell_type": "code",
      "source": [
        "# The torch.utils.data module in PyTorch provides data loading and processing utilities for training and evaluation of deep learning models.\n",
        "# It contains various classes and functions for loading and transforming data, such as DataLoader, Dataset, and ConcatDataset. \n",
        "#Here is an example of how to use the torch.utils.data module to load data for training a model:\n",
        "import torch.utils.data as data\n",
        "\n",
        "# Create dataset\n",
        "dataset = MyDataset()\n",
        "\n",
        "# Create data loader\n",
        "data_loader = data.DataLoader(dataset, batch_size=64, shuffle=True)\n",
        "\n",
        "# Train model\n",
        "for batch in data_loader:\n",
        "    inputs, labels = batch\n",
        "    # Train model on batch"
      ],
      "metadata": {
        "id": "5iOY2kJfk9gX"
      },
      "execution_count": 2,
      "outputs": []
    },
    {
      "cell_type": "code",
      "source": [],
      "metadata": {
        "id": "UFsblu8ri7T0"
      },
      "execution_count": null,
      "outputs": []
    }
  ]
}