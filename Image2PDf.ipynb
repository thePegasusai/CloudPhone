{
  "nbformat": 4,
  "nbformat_minor": 0,
  "metadata": {
    "colab": {
      "provenance": [],
      "authorship_tag": "ABX9TyNOeuZ48gt3UiuHsjKi87HS",
      "include_colab_link": true
    },
    "kernelspec": {
      "name": "python3",
      "display_name": "Python 3"
    },
    "language_info": {
      "name": "python"
    }
  },
  "cells": [
    {
      "cell_type": "markdown",
      "metadata": {
        "id": "view-in-github",
        "colab_type": "text"
      },
      "source": [
        "<a href=\"https://colab.research.google.com/github/thePegasusai/CloudPhone/blob/main/Image2PDf.ipynb\" target=\"_parent\"><img src=\"https://colab.research.google.com/assets/colab-badge.svg\" alt=\"Open In Colab\"/></a>"
      ]
    },
    {
      "cell_type": "code",
      "execution_count": null,
      "metadata": {
        "id": "sw3FSV4sO--g"
      },
      "outputs": [],
      "source": [
        "from PIL import Image\n",
        "import os\n",
        "\n",
        "# List of image file paths\n",
        "image_paths = [\"path/to/image1.jpg\", \"path/to/image2.jpg\", \"path/to/image3.jpg\"]\n",
        "\n",
        "# Open all the images\n",
        "images = [Image.open(i) for i in image_paths]\n",
        "\n",
        "# Save the images as a single PDF\n",
        "images[0].save(\"images.pdf\", save_all=True, append_images=images[1:])\n"
      ]
    },
    {
      "cell_type": "code",
      "source": [
        "!pip install pymupdf gTTS\n",
        "\n",
        "import fitz\n",
        "import gtts\n",
        "from IPython.display import Audio\n",
        "\n",
        "# Open the PDF\n",
        "pdf_path = \"path/to/pdf.pdf\"\n",
        "doc = fitz.open(pdf_path)\n",
        "\n",
        "# Extract the text from the PDF\n",
        "text = \"\"\n",
        "for page in doc:\n",
        "    text += page.get_text(\"text\")\n",
        "\n",
        "# Create a text-to-speech object\n",
        "tts = gtts.gTTS(text)\n",
        "\n",
        "# Save the speech to an mp3 file\n",
        "tts.save(\"speech.mp3\")\n",
        "\n",
        "# Play the speech\n",
        "Audio(\"speech.mp3\", autoplay=True)\n",
        "\n",
        "\n",
        "# This code uses the fitz.open function to open the PDF, then iterates through all the pages and extracts the text from each page using the page.get_text function. Then it uses the gTTS library to convert the text to speech and save it to an mp3 file. The IPython.display.Audio function is used to play the speech.\n",
        "# Please keep in mind that the above example is for demonstration purposes only, and you may need to adjust the code to fit your specific use case.\n",
        "# Also, the gTTS library uses Google's Text-to-Speech service, so you may need an internet connection for this code to work."
      ],
      "metadata": {
        "id": "B4RTNRTGSHWP"
      },
      "execution_count": null,
      "outputs": []
    },
    {
      "cell_type": "markdown",
      "source": [],
      "metadata": {
        "id": "7s-Qo7DzRCEd"
      }
    }
  ]
}